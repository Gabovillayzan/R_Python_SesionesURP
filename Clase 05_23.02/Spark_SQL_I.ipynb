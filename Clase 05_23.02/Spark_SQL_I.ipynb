{
 "cells": [
  {
   "cell_type": "markdown",
   "metadata": {},
   "source": [
    "################################################################################################################################\n",
    "                                                           Spark SQL - Dataframes\n",
    "################################################################################################################################"
   ]
  },
  {
   "cell_type": "markdown",
   "metadata": {},
   "source": [
    "#### Revisamos la Librería en la cual nos encontramos"
   ]
  },
  {
   "cell_type": "code",
   "execution_count": 1,
   "metadata": {},
   "outputs": [
    {
     "data": {
      "text/plain": [
       "u'/home/hduser/Aldo_Chavez'"
      ]
     },
     "execution_count": 1,
     "metadata": {},
     "output_type": "execute_result"
    }
   ],
   "source": [
    "pwd"
   ]
  },
  {
   "cell_type": "markdown",
   "metadata": {},
   "source": [
    "### Paso 1: Definimos la importación de Variables"
   ]
  },
  {
   "cell_type": "code",
   "execution_count": 3,
   "metadata": {},
   "outputs": [],
   "source": [
    "from pyspark.sql import SparkSession\n",
    "spark = SparkSession.Builder().appName(\"Prueba1\").getOrCreate()"
   ]
  },
  {
   "cell_type": "code",
   "execution_count": 4,
   "metadata": {},
   "outputs": [],
   "source": [
    "import pyspark.sql.functions as f"
   ]
  },
  {
   "cell_type": "markdown",
   "metadata": {},
   "source": [
    "## Generacion de Dataframes"
   ]
  },
  {
   "cell_type": "markdown",
   "metadata": {},
   "source": [
    "### Importando desde un fichero"
   ]
  },
  {
   "cell_type": "markdown",
   "metadata": {},
   "source": [
    "#### Desde un Archivo Json"
   ]
  },
  {
   "cell_type": "code",
   "execution_count": 5,
   "metadata": {
    "scrolled": true
   },
   "outputs": [
    {
     "ename": "AnalysisException",
     "evalue": "u'Path does not exist: file:/home/hduser/datos/2015-summary.json;'",
     "output_type": "error",
     "traceback": [
      "\u001b[0;31m---------------------------------------------------------------------------\u001b[0m",
      "\u001b[0;31mAnalysisException\u001b[0m                         Traceback (most recent call last)",
      "\u001b[0;32m<ipython-input-5-c8996a72b151>\u001b[0m in \u001b[0;36m<module>\u001b[0;34m()\u001b[0m\n\u001b[0;32m----> 1\u001b[0;31m \u001b[0mdf_json\u001b[0m \u001b[0;34m=\u001b[0m \u001b[0mspark\u001b[0m\u001b[0;34m.\u001b[0m\u001b[0mread\u001b[0m\u001b[0;34m.\u001b[0m\u001b[0mjson\u001b[0m\u001b[0;34m(\u001b[0m\u001b[0;34m\"../datos/2015-summary.json\"\u001b[0m\u001b[0;34m)\u001b[0m\u001b[0;34m\u001b[0m\u001b[0m\n\u001b[0m",
      "\u001b[0;32m/home/hduser/spark/python/pyspark/sql/readwriter.pyc\u001b[0m in \u001b[0;36mjson\u001b[0;34m(self, path, schema, primitivesAsString, prefersDecimal, allowComments, allowUnquotedFieldNames, allowSingleQuotes, allowNumericLeadingZero, allowBackslashEscapingAnyCharacter, mode, columnNameOfCorruptRecord, dateFormat, timestampFormat, multiLine, allowUnquotedControlChars)\u001b[0m\n\u001b[1;32m    259\u001b[0m             \u001b[0mpath\u001b[0m \u001b[0;34m=\u001b[0m \u001b[0;34m[\u001b[0m\u001b[0mpath\u001b[0m\u001b[0;34m]\u001b[0m\u001b[0;34m\u001b[0m\u001b[0m\n\u001b[1;32m    260\u001b[0m         \u001b[0;32mif\u001b[0m \u001b[0mtype\u001b[0m\u001b[0;34m(\u001b[0m\u001b[0mpath\u001b[0m\u001b[0;34m)\u001b[0m \u001b[0;34m==\u001b[0m \u001b[0mlist\u001b[0m\u001b[0;34m:\u001b[0m\u001b[0;34m\u001b[0m\u001b[0m\n\u001b[0;32m--> 261\u001b[0;31m             \u001b[0;32mreturn\u001b[0m \u001b[0mself\u001b[0m\u001b[0;34m.\u001b[0m\u001b[0m_df\u001b[0m\u001b[0;34m(\u001b[0m\u001b[0mself\u001b[0m\u001b[0;34m.\u001b[0m\u001b[0m_jreader\u001b[0m\u001b[0;34m.\u001b[0m\u001b[0mjson\u001b[0m\u001b[0;34m(\u001b[0m\u001b[0mself\u001b[0m\u001b[0;34m.\u001b[0m\u001b[0m_spark\u001b[0m\u001b[0;34m.\u001b[0m\u001b[0m_sc\u001b[0m\u001b[0;34m.\u001b[0m\u001b[0m_jvm\u001b[0m\u001b[0;34m.\u001b[0m\u001b[0mPythonUtils\u001b[0m\u001b[0;34m.\u001b[0m\u001b[0mtoSeq\u001b[0m\u001b[0;34m(\u001b[0m\u001b[0mpath\u001b[0m\u001b[0;34m)\u001b[0m\u001b[0;34m)\u001b[0m\u001b[0;34m)\u001b[0m\u001b[0;34m\u001b[0m\u001b[0m\n\u001b[0m\u001b[1;32m    262\u001b[0m         \u001b[0;32melif\u001b[0m \u001b[0misinstance\u001b[0m\u001b[0;34m(\u001b[0m\u001b[0mpath\u001b[0m\u001b[0;34m,\u001b[0m \u001b[0mRDD\u001b[0m\u001b[0;34m)\u001b[0m\u001b[0;34m:\u001b[0m\u001b[0;34m\u001b[0m\u001b[0m\n\u001b[1;32m    263\u001b[0m             \u001b[0;32mdef\u001b[0m \u001b[0mfunc\u001b[0m\u001b[0;34m(\u001b[0m\u001b[0miterator\u001b[0m\u001b[0;34m)\u001b[0m\u001b[0;34m:\u001b[0m\u001b[0;34m\u001b[0m\u001b[0m\n",
      "\u001b[0;32m/home/hduser/spark/python/lib/py4j-0.10.7-src.zip/py4j/java_gateway.py\u001b[0m in \u001b[0;36m__call__\u001b[0;34m(self, *args)\u001b[0m\n\u001b[1;32m   1255\u001b[0m         \u001b[0manswer\u001b[0m \u001b[0;34m=\u001b[0m \u001b[0mself\u001b[0m\u001b[0;34m.\u001b[0m\u001b[0mgateway_client\u001b[0m\u001b[0;34m.\u001b[0m\u001b[0msend_command\u001b[0m\u001b[0;34m(\u001b[0m\u001b[0mcommand\u001b[0m\u001b[0;34m)\u001b[0m\u001b[0;34m\u001b[0m\u001b[0m\n\u001b[1;32m   1256\u001b[0m         return_value = get_return_value(\n\u001b[0;32m-> 1257\u001b[0;31m             answer, self.gateway_client, self.target_id, self.name)\n\u001b[0m\u001b[1;32m   1258\u001b[0m \u001b[0;34m\u001b[0m\u001b[0m\n\u001b[1;32m   1259\u001b[0m         \u001b[0;32mfor\u001b[0m \u001b[0mtemp_arg\u001b[0m \u001b[0;32min\u001b[0m \u001b[0mtemp_args\u001b[0m\u001b[0;34m:\u001b[0m\u001b[0;34m\u001b[0m\u001b[0m\n",
      "\u001b[0;32m/home/hduser/spark/python/pyspark/sql/utils.pyc\u001b[0m in \u001b[0;36mdeco\u001b[0;34m(*a, **kw)\u001b[0m\n\u001b[1;32m     67\u001b[0m                                              e.java_exception.getStackTrace()))\n\u001b[1;32m     68\u001b[0m             \u001b[0;32mif\u001b[0m \u001b[0ms\u001b[0m\u001b[0;34m.\u001b[0m\u001b[0mstartswith\u001b[0m\u001b[0;34m(\u001b[0m\u001b[0;34m'org.apache.spark.sql.AnalysisException: '\u001b[0m\u001b[0;34m)\u001b[0m\u001b[0;34m:\u001b[0m\u001b[0;34m\u001b[0m\u001b[0m\n\u001b[0;32m---> 69\u001b[0;31m                 \u001b[0;32mraise\u001b[0m \u001b[0mAnalysisException\u001b[0m\u001b[0;34m(\u001b[0m\u001b[0ms\u001b[0m\u001b[0;34m.\u001b[0m\u001b[0msplit\u001b[0m\u001b[0;34m(\u001b[0m\u001b[0;34m': '\u001b[0m\u001b[0;34m,\u001b[0m \u001b[0;36m1\u001b[0m\u001b[0;34m)\u001b[0m\u001b[0;34m[\u001b[0m\u001b[0;36m1\u001b[0m\u001b[0;34m]\u001b[0m\u001b[0;34m,\u001b[0m \u001b[0mstackTrace\u001b[0m\u001b[0;34m)\u001b[0m\u001b[0;34m\u001b[0m\u001b[0m\n\u001b[0m\u001b[1;32m     70\u001b[0m             \u001b[0;32mif\u001b[0m \u001b[0ms\u001b[0m\u001b[0;34m.\u001b[0m\u001b[0mstartswith\u001b[0m\u001b[0;34m(\u001b[0m\u001b[0;34m'org.apache.spark.sql.catalyst.analysis'\u001b[0m\u001b[0;34m)\u001b[0m\u001b[0;34m:\u001b[0m\u001b[0;34m\u001b[0m\u001b[0m\n\u001b[1;32m     71\u001b[0m                 \u001b[0;32mraise\u001b[0m \u001b[0mAnalysisException\u001b[0m\u001b[0;34m(\u001b[0m\u001b[0ms\u001b[0m\u001b[0;34m.\u001b[0m\u001b[0msplit\u001b[0m\u001b[0;34m(\u001b[0m\u001b[0;34m': '\u001b[0m\u001b[0;34m,\u001b[0m \u001b[0;36m1\u001b[0m\u001b[0;34m)\u001b[0m\u001b[0;34m[\u001b[0m\u001b[0;36m1\u001b[0m\u001b[0;34m]\u001b[0m\u001b[0;34m,\u001b[0m \u001b[0mstackTrace\u001b[0m\u001b[0;34m)\u001b[0m\u001b[0;34m\u001b[0m\u001b[0m\n",
      "\u001b[0;31mAnalysisException\u001b[0m: u'Path does not exist: file:/home/hduser/datos/2015-summary.json;'"
     ]
    }
   ],
   "source": [
    "df_json = spark.read.json(\"../datos/2015-summary.json\")"
   ]
  },
  {
   "cell_type": "code",
   "execution_count": 4,
   "metadata": {
    "scrolled": true
   },
   "outputs": [
    {
     "name": "stdout",
     "output_type": "stream",
     "text": [
      "+-----------------+-------------------+-----+\n",
      "|DEST_COUNTRY_NAME|ORIGIN_COUNTRY_NAME|count|\n",
      "+-----------------+-------------------+-----+\n",
      "|    United States|            Romania|   15|\n",
      "|    United States|            Croatia|    1|\n",
      "|    United States|            Ireland|  344|\n",
      "|            Egypt|      United States|   15|\n",
      "|    United States|              India|   62|\n",
      "+-----------------+-------------------+-----+\n",
      "only showing top 5 rows\n",
      "\n"
     ]
    }
   ],
   "source": [
    "df_json.show(5)"
   ]
  },
  {
   "cell_type": "code",
   "execution_count": 5,
   "metadata": {},
   "outputs": [
    {
     "data": {
      "text/plain": [
       "pyspark.sql.dataframe.DataFrame"
      ]
     },
     "execution_count": 5,
     "metadata": {},
     "output_type": "execute_result"
    }
   ],
   "source": [
    "type(df_json)"
   ]
  },
  {
   "cell_type": "markdown",
   "metadata": {},
   "source": [
    "### Desde un fichero en CSV"
   ]
  },
  {
   "cell_type": "code",
   "execution_count": 13,
   "metadata": {},
   "outputs": [],
   "source": [
    "df_csv = spark.read.csv(\"../datos/2015-summary.csv\", header = True, sep = ',')"
   ]
  },
  {
   "cell_type": "code",
   "execution_count": 14,
   "metadata": {},
   "outputs": [
    {
     "data": {
      "text/plain": [
       "pyspark.sql.dataframe.DataFrame"
      ]
     },
     "execution_count": 14,
     "metadata": {},
     "output_type": "execute_result"
    }
   ],
   "source": [
    "type(df_csv)"
   ]
  },
  {
   "cell_type": "code",
   "execution_count": 15,
   "metadata": {},
   "outputs": [
    {
     "name": "stdout",
     "output_type": "stream",
     "text": [
      "+-----------------+-------------------+-----+\n",
      "|DEST_COUNTRY_NAME|ORIGIN_COUNTRY_NAME|count|\n",
      "+-----------------+-------------------+-----+\n",
      "|    United States|            Romania|   15|\n",
      "|    United States|            Croatia|    1|\n",
      "|    United States|            Ireland|  344|\n",
      "|            Egypt|      United States|   15|\n",
      "|    United States|              India|   62|\n",
      "+-----------------+-------------------+-----+\n",
      "only showing top 5 rows\n",
      "\n"
     ]
    }
   ],
   "source": [
    "df_csv.show(5)"
   ]
  },
  {
   "cell_type": "code",
   "execution_count": 25,
   "metadata": {},
   "outputs": [],
   "source": [
    "df_csv = spark.read.csv(\"../datos/2015-summary.csv\", header = True)"
   ]
  },
  {
   "cell_type": "code",
   "execution_count": 17,
   "metadata": {},
   "outputs": [
    {
     "name": "stdout",
     "output_type": "stream",
     "text": [
      "+-----------------+-------------------+-----+\n",
      "|DEST_COUNTRY_NAME|ORIGIN_COUNTRY_NAME|count|\n",
      "+-----------------+-------------------+-----+\n",
      "|    United States|            Romania|   15|\n",
      "|    United States|            Croatia|    1|\n",
      "|    United States|            Ireland|  344|\n",
      "|            Egypt|      United States|   15|\n",
      "|    United States|              India|   62|\n",
      "+-----------------+-------------------+-----+\n",
      "only showing top 5 rows\n",
      "\n"
     ]
    }
   ],
   "source": [
    "df_csv.show(5)"
   ]
  },
  {
   "cell_type": "markdown",
   "metadata": {},
   "source": [
    "## Desde un fichero de texto"
   ]
  },
  {
   "cell_type": "code",
   "execution_count": 24,
   "metadata": {},
   "outputs": [],
   "source": [
    "df_txt = spark.read.text(\"../datos/salario.txt\")"
   ]
  },
  {
   "cell_type": "code",
   "execution_count": 22,
   "metadata": {
    "scrolled": true
   },
   "outputs": [
    {
     "name": "stdout",
     "output_type": "stream",
     "text": [
      "+--------------------+\n",
      "|               value|\n",
      "+--------------------+\n",
      "|rank,discipline,y...|\n",
      "|Prof,B,19,18,Male...|\n",
      "|Prof,B,20,16,Male...|\n",
      "|AsstProf,B,4,3,Ma...|\n",
      "|Prof,B,45,39,Male...|\n",
      "+--------------------+\n",
      "only showing top 5 rows\n",
      "\n"
     ]
    }
   ],
   "source": [
    "df_txt.show(5)"
   ]
  },
  {
   "cell_type": "markdown",
   "metadata": {},
   "source": [
    "### Desde un fichero parquet"
   ]
  },
  {
   "cell_type": "code",
   "execution_count": 16,
   "metadata": {},
   "outputs": [],
   "source": [
    "df_parquet = spark.read.parquet(\"../datos/part-r-00000-1a9822ba-b8fb-4d8e-844a-ea30d0801b9e.gz.parquet\")"
   ]
  },
  {
   "cell_type": "code",
   "execution_count": 17,
   "metadata": {},
   "outputs": [
    {
     "name": "stdout",
     "output_type": "stream",
     "text": [
      "+-----------------+-------------------+-----+\n",
      "|DEST_COUNTRY_NAME|ORIGIN_COUNTRY_NAME|count|\n",
      "+-----------------+-------------------+-----+\n",
      "|    United States|            Romania|    1|\n",
      "|    United States|            Ireland|  264|\n",
      "|    United States|              India|   69|\n",
      "|            Egypt|      United States|   24|\n",
      "|Equatorial Guinea|      United States|    1|\n",
      "+-----------------+-------------------+-----+\n",
      "only showing top 5 rows\n",
      "\n"
     ]
    }
   ],
   "source": [
    "df_parquet.show(5)"
   ]
  },
  {
   "cell_type": "markdown",
   "metadata": {},
   "source": [
    "### Creacion desde el area de trabajo"
   ]
  },
  {
   "cell_type": "code",
   "execution_count": 6,
   "metadata": {},
   "outputs": [],
   "source": [
    "df_range = spark.range(100).toDF(\"number\")"
   ]
  },
  {
   "cell_type": "code",
   "execution_count": 7,
   "metadata": {
    "scrolled": true
   },
   "outputs": [
    {
     "name": "stdout",
     "output_type": "stream",
     "text": [
      "+------+\n",
      "|number|\n",
      "+------+\n",
      "|     0|\n",
      "|     1|\n",
      "|     2|\n",
      "|     3|\n",
      "|     4|\n",
      "+------+\n",
      "only showing top 5 rows\n",
      "\n"
     ]
    }
   ],
   "source": [
    "df_range.show(5)"
   ]
  },
  {
   "cell_type": "code",
   "execution_count": 3,
   "metadata": {},
   "outputs": [
    {
     "data": {
      "text/plain": [
       "[('Aldo', 'Chavez', 25, 1.67), ['Andre', 'Chavez', 27, 1.68]]"
      ]
     },
     "execution_count": 3,
     "metadata": {},
     "output_type": "execute_result"
    }
   ],
   "source": [
    "lista_Profes = [('Aldo','Chavez',25,1.67)]\n",
    "lista_Profes.append(['Andre','Chavez',27,1.68])\n",
    "lista_Profes"
   ]
  },
  {
   "cell_type": "code",
   "execution_count": 4,
   "metadata": {},
   "outputs": [],
   "source": [
    "df = spark.createDataFrame(lista_Profes, ['Nombre','Apellido','Edad','Altura'])"
   ]
  },
  {
   "cell_type": "code",
   "execution_count": 5,
   "metadata": {},
   "outputs": [
    {
     "name": "stdout",
     "output_type": "stream",
     "text": [
      "+------+--------+----+------+\n",
      "|Nombre|Apellido|Edad|Altura|\n",
      "+------+--------+----+------+\n",
      "|  Aldo|  Chavez|  25|  1.67|\n",
      "| Andre|  Chavez|  27|  1.68|\n",
      "+------+--------+----+------+\n",
      "\n"
     ]
    }
   ],
   "source": [
    "df.show()"
   ]
  },
  {
   "cell_type": "code",
   "execution_count": 11,
   "metadata": {},
   "outputs": [],
   "source": [
    "l = [('Alice', 1),('Jose',2)]"
   ]
  },
  {
   "cell_type": "code",
   "execution_count": 12,
   "metadata": {},
   "outputs": [
    {
     "data": {
      "text/plain": [
       "[Row(name=u'Alice', age=1), Row(name=u'Jose', age=2)]"
      ]
     },
     "execution_count": 12,
     "metadata": {},
     "output_type": "execute_result"
    }
   ],
   "source": [
    "spark.createDataFrame(l, ['name', 'age']).collect()"
   ]
  },
  {
   "cell_type": "code",
   "execution_count": 8,
   "metadata": {},
   "outputs": [
    {
     "name": "stderr",
     "output_type": "stream",
     "text": [
      "/home/hduser/spark/python/pyspark/sql/session.py:340: UserWarning: inferring schema from dict is deprecated,please use pyspark.sql.Row instead\n",
      "  warnings.warn(\"inferring schema from dict is deprecated,\"\n"
     ]
    },
    {
     "name": "stdout",
     "output_type": "stream",
     "text": [
      "+---+-----+\n",
      "|age| name|\n",
      "+---+-----+\n",
      "|  1|Alice|\n",
      "+---+-----+\n",
      "\n"
     ]
    }
   ],
   "source": [
    "d = [{'name': 'Alice', 'age': 1}]\n",
    "spark.createDataFrame(d).show()"
   ]
  },
  {
   "cell_type": "code",
   "execution_count": 10,
   "metadata": {},
   "outputs": [
    {
     "name": "stdout",
     "output_type": "stream",
     "text": [
      "+-----+---+\n",
      "| name|age|\n",
      "+-----+---+\n",
      "|Alice|  1|\n",
      "+-----+---+\n",
      "\n"
     ]
    }
   ],
   "source": [
    "rdd = sc.parallelize(l)\n",
    "rdd.collect()\n",
    "df = spark.createDataFrame(rdd, ['name', 'age'])\n",
    "df.show()"
   ]
  },
  {
   "cell_type": "code",
   "execution_count": 12,
   "metadata": {},
   "outputs": [],
   "source": [
    "import pandas as pd\n",
    "import numpy as np"
   ]
  },
  {
   "cell_type": "code",
   "execution_count": 17,
   "metadata": {},
   "outputs": [
    {
     "data": {
      "text/html": [
       "<div>\n",
       "<style scoped>\n",
       "    .dataframe tbody tr th:only-of-type {\n",
       "        vertical-align: middle;\n",
       "    }\n",
       "\n",
       "    .dataframe tbody tr th {\n",
       "        vertical-align: top;\n",
       "    }\n",
       "\n",
       "    .dataframe thead th {\n",
       "        text-align: right;\n",
       "    }\n",
       "</style>\n",
       "<table border=\"1\" class=\"dataframe\">\n",
       "  <thead>\n",
       "    <tr style=\"text-align: right;\">\n",
       "      <th></th>\n",
       "      <th>ID</th>\n",
       "      <th>edad</th>\n",
       "      <th>meses</th>\n",
       "      <th>max_ant</th>\n",
       "      <th>ingreso</th>\n",
       "      <th>score</th>\n",
       "      <th>tipo_vivienda</th>\n",
       "      <th>zona</th>\n",
       "      <th>nivel</th>\n",
       "      <th>riesgo</th>\n",
       "      <th>Unnamed: 10</th>\n",
       "      <th>Unnamed: 11</th>\n",
       "      <th>Unnamed: 12</th>\n",
       "      <th>Unnamed: 13</th>\n",
       "    </tr>\n",
       "  </thead>\n",
       "  <tbody>\n",
       "    <tr>\n",
       "      <th>0</th>\n",
       "      <td>2208</td>\n",
       "      <td>33.0</td>\n",
       "      <td>128.0</td>\n",
       "      <td>6.0</td>\n",
       "      <td>3230.00</td>\n",
       "      <td>192.0</td>\n",
       "      <td>2</td>\n",
       "      <td>3.0</td>\n",
       "      <td>2</td>\n",
       "      <td>1</td>\n",
       "      <td>NaN</td>\n",
       "      <td>NaN</td>\n",
       "      <td>NaN</td>\n",
       "      <td>NaN</td>\n",
       "    </tr>\n",
       "    <tr>\n",
       "      <th>1</th>\n",
       "      <td>2211</td>\n",
       "      <td>32.0</td>\n",
       "      <td>185.0</td>\n",
       "      <td>7.0</td>\n",
       "      <td>2930.00</td>\n",
       "      <td>217.0</td>\n",
       "      <td>2</td>\n",
       "      <td>1.0</td>\n",
       "      <td>5</td>\n",
       "      <td>1</td>\n",
       "      <td>NaN</td>\n",
       "      <td>NaN</td>\n",
       "      <td>NaN</td>\n",
       "      <td>NaN</td>\n",
       "    </tr>\n",
       "    <tr>\n",
       "      <th>2</th>\n",
       "      <td>2212</td>\n",
       "      <td>28.0</td>\n",
       "      <td>NaN</td>\n",
       "      <td>7.0</td>\n",
       "      <td>1883.70</td>\n",
       "      <td>202.0</td>\n",
       "      <td>2</td>\n",
       "      <td>1.0</td>\n",
       "      <td>2</td>\n",
       "      <td>1</td>\n",
       "      <td>NaN</td>\n",
       "      <td>NaN</td>\n",
       "      <td>NaN</td>\n",
       "      <td>NaN</td>\n",
       "    </tr>\n",
       "    <tr>\n",
       "      <th>3</th>\n",
       "      <td>2216</td>\n",
       "      <td>56.0</td>\n",
       "      <td>200.0</td>\n",
       "      <td>0.0</td>\n",
       "      <td>850.00</td>\n",
       "      <td>194.0</td>\n",
       "      <td>2</td>\n",
       "      <td>1.0</td>\n",
       "      <td>5</td>\n",
       "      <td>1</td>\n",
       "      <td>NaN</td>\n",
       "      <td>NaN</td>\n",
       "      <td>NaN</td>\n",
       "      <td>NaN</td>\n",
       "    </tr>\n",
       "    <tr>\n",
       "      <th>4</th>\n",
       "      <td>2218</td>\n",
       "      <td>32.0</td>\n",
       "      <td>131.0</td>\n",
       "      <td>65.0</td>\n",
       "      <td>3200.00</td>\n",
       "      <td>200.0</td>\n",
       "      <td>2</td>\n",
       "      <td>1.0</td>\n",
       "      <td>2</td>\n",
       "      <td>1</td>\n",
       "      <td>NaN</td>\n",
       "      <td>NaN</td>\n",
       "      <td>NaN</td>\n",
       "      <td>NaN</td>\n",
       "    </tr>\n",
       "    <tr>\n",
       "      <th>5</th>\n",
       "      <td>2219</td>\n",
       "      <td>34.0</td>\n",
       "      <td>145.0</td>\n",
       "      <td>6.0</td>\n",
       "      <td>7000.00</td>\n",
       "      <td>196.0</td>\n",
       "      <td>2</td>\n",
       "      <td>5.0</td>\n",
       "      <td>2</td>\n",
       "      <td>1</td>\n",
       "      <td>NaN</td>\n",
       "      <td>NaN</td>\n",
       "      <td>NaN</td>\n",
       "      <td>NaN</td>\n",
       "    </tr>\n",
       "    <tr>\n",
       "      <th>6</th>\n",
       "      <td>2226</td>\n",
       "      <td>NaN</td>\n",
       "      <td>114.0</td>\n",
       "      <td>0.0</td>\n",
       "      <td>2171.50</td>\n",
       "      <td>178.0</td>\n",
       "      <td>2</td>\n",
       "      <td>2.0</td>\n",
       "      <td>1</td>\n",
       "      <td>1</td>\n",
       "      <td>NaN</td>\n",
       "      <td>NaN</td>\n",
       "      <td>NaN</td>\n",
       "      <td>NaN</td>\n",
       "    </tr>\n",
       "    <tr>\n",
       "      <th>7</th>\n",
       "      <td>2227</td>\n",
       "      <td>27.0</td>\n",
       "      <td>116.0</td>\n",
       "      <td>0.0</td>\n",
       "      <td>800.00</td>\n",
       "      <td>169.0</td>\n",
       "      <td>2</td>\n",
       "      <td>1.0</td>\n",
       "      <td>5</td>\n",
       "      <td>1</td>\n",
       "      <td>NaN</td>\n",
       "      <td>NaN</td>\n",
       "      <td>NaN</td>\n",
       "      <td>NaN</td>\n",
       "    </tr>\n",
       "    <tr>\n",
       "      <th>8</th>\n",
       "      <td>2228</td>\n",
       "      <td>26.0</td>\n",
       "      <td>182.0</td>\n",
       "      <td>6.0</td>\n",
       "      <td>3150.00</td>\n",
       "      <td>190.0</td>\n",
       "      <td>4</td>\n",
       "      <td>3.0</td>\n",
       "      <td>5</td>\n",
       "      <td>1</td>\n",
       "      <td>NaN</td>\n",
       "      <td>NaN</td>\n",
       "      <td>NaN</td>\n",
       "      <td>NaN</td>\n",
       "    </tr>\n",
       "    <tr>\n",
       "      <th>9</th>\n",
       "      <td>2230</td>\n",
       "      <td>25.0</td>\n",
       "      <td>154.0</td>\n",
       "      <td>1.0</td>\n",
       "      <td>2600.00</td>\n",
       "      <td>189.0</td>\n",
       "      <td>2</td>\n",
       "      <td>1.0</td>\n",
       "      <td>2</td>\n",
       "      <td>1</td>\n",
       "      <td>NaN</td>\n",
       "      <td>NaN</td>\n",
       "      <td>NaN</td>\n",
       "      <td>NaN</td>\n",
       "    </tr>\n",
       "    <tr>\n",
       "      <th>10</th>\n",
       "      <td>2233</td>\n",
       "      <td>49.0</td>\n",
       "      <td>203.0</td>\n",
       "      <td>0.0</td>\n",
       "      <td>6350.00</td>\n",
       "      <td>224.0</td>\n",
       "      <td>4</td>\n",
       "      <td>1.0</td>\n",
       "      <td>2</td>\n",
       "      <td>1</td>\n",
       "      <td>NaN</td>\n",
       "      <td>NaN</td>\n",
       "      <td>NaN</td>\n",
       "      <td>NaN</td>\n",
       "    </tr>\n",
       "    <tr>\n",
       "      <th>11</th>\n",
       "      <td>2234</td>\n",
       "      <td>49.0</td>\n",
       "      <td>159.0</td>\n",
       "      <td>0.0</td>\n",
       "      <td>3330.00</td>\n",
       "      <td>221.0</td>\n",
       "      <td>2</td>\n",
       "      <td>1.0</td>\n",
       "      <td>5</td>\n",
       "      <td>1</td>\n",
       "      <td>NaN</td>\n",
       "      <td>NaN</td>\n",
       "      <td>NaN</td>\n",
       "      <td>NaN</td>\n",
       "    </tr>\n",
       "    <tr>\n",
       "      <th>12</th>\n",
       "      <td>2235</td>\n",
       "      <td>28.0</td>\n",
       "      <td>127.0</td>\n",
       "      <td>0.0</td>\n",
       "      <td>1400.00</td>\n",
       "      <td>177.0</td>\n",
       "      <td>2</td>\n",
       "      <td>1.0</td>\n",
       "      <td>5</td>\n",
       "      <td>1</td>\n",
       "      <td>NaN</td>\n",
       "      <td>NaN</td>\n",
       "      <td>NaN</td>\n",
       "      <td>NaN</td>\n",
       "    </tr>\n",
       "    <tr>\n",
       "      <th>13</th>\n",
       "      <td>2236</td>\n",
       "      <td>30.0</td>\n",
       "      <td>137.0</td>\n",
       "      <td>0.0</td>\n",
       "      <td>6000.00</td>\n",
       "      <td>192.0</td>\n",
       "      <td>2</td>\n",
       "      <td>1.0</td>\n",
       "      <td>5</td>\n",
       "      <td>1</td>\n",
       "      <td>NaN</td>\n",
       "      <td>NaN</td>\n",
       "      <td>NaN</td>\n",
       "      <td>NaN</td>\n",
       "    </tr>\n",
       "    <tr>\n",
       "      <th>14</th>\n",
       "      <td>2238</td>\n",
       "      <td>45.0</td>\n",
       "      <td>151.0</td>\n",
       "      <td>18.0</td>\n",
       "      <td>1050.00</td>\n",
       "      <td>173.0</td>\n",
       "      <td>2</td>\n",
       "      <td>4.0</td>\n",
       "      <td>5</td>\n",
       "      <td>1</td>\n",
       "      <td>NaN</td>\n",
       "      <td>NaN</td>\n",
       "      <td>NaN</td>\n",
       "      <td>NaN</td>\n",
       "    </tr>\n",
       "    <tr>\n",
       "      <th>15</th>\n",
       "      <td>2240</td>\n",
       "      <td>21.0</td>\n",
       "      <td>118.0</td>\n",
       "      <td>0.0</td>\n",
       "      <td>NaN</td>\n",
       "      <td>175.0</td>\n",
       "      <td>4</td>\n",
       "      <td>1.0</td>\n",
       "      <td>5</td>\n",
       "      <td>1</td>\n",
       "      <td>NaN</td>\n",
       "      <td>NaN</td>\n",
       "      <td>NaN</td>\n",
       "      <td>NaN</td>\n",
       "    </tr>\n",
       "    <tr>\n",
       "      <th>16</th>\n",
       "      <td>2244</td>\n",
       "      <td>37.0</td>\n",
       "      <td>330.0</td>\n",
       "      <td>8.0</td>\n",
       "      <td>2432.00</td>\n",
       "      <td>174.0</td>\n",
       "      <td>2</td>\n",
       "      <td>3.0</td>\n",
       "      <td>5</td>\n",
       "      <td>1</td>\n",
       "      <td>NaN</td>\n",
       "      <td>NaN</td>\n",
       "      <td>NaN</td>\n",
       "      <td>NaN</td>\n",
       "    </tr>\n",
       "    <tr>\n",
       "      <th>17</th>\n",
       "      <td>2247</td>\n",
       "      <td>36.0</td>\n",
       "      <td>257.0</td>\n",
       "      <td>0.0</td>\n",
       "      <td>1400.00</td>\n",
       "      <td>186.0</td>\n",
       "      <td>2</td>\n",
       "      <td>3.0</td>\n",
       "      <td>2</td>\n",
       "      <td>1</td>\n",
       "      <td>NaN</td>\n",
       "      <td>NaN</td>\n",
       "      <td>NaN</td>\n",
       "      <td>NaN</td>\n",
       "    </tr>\n",
       "    <tr>\n",
       "      <th>18</th>\n",
       "      <td>2248</td>\n",
       "      <td>32.0</td>\n",
       "      <td>163.0</td>\n",
       "      <td>0.0</td>\n",
       "      <td>3000.00</td>\n",
       "      <td>175.0</td>\n",
       "      <td>2</td>\n",
       "      <td>3.0</td>\n",
       "      <td>5</td>\n",
       "      <td>1</td>\n",
       "      <td>NaN</td>\n",
       "      <td>NaN</td>\n",
       "      <td>NaN</td>\n",
       "      <td>NaN</td>\n",
       "    </tr>\n",
       "    <tr>\n",
       "      <th>19</th>\n",
       "      <td>2252</td>\n",
       "      <td>25.0</td>\n",
       "      <td>128.0</td>\n",
       "      <td>0.0</td>\n",
       "      <td>889.98</td>\n",
       "      <td>169.0</td>\n",
       "      <td>2</td>\n",
       "      <td>1.0</td>\n",
       "      <td>5</td>\n",
       "      <td>1</td>\n",
       "      <td>NaN</td>\n",
       "      <td>NaN</td>\n",
       "      <td>NaN</td>\n",
       "      <td>NaN</td>\n",
       "    </tr>\n",
       "    <tr>\n",
       "      <th>20</th>\n",
       "      <td>2254</td>\n",
       "      <td>32.0</td>\n",
       "      <td>127.0</td>\n",
       "      <td>0.0</td>\n",
       "      <td>1200.00</td>\n",
       "      <td>175.0</td>\n",
       "      <td>2</td>\n",
       "      <td>1.0</td>\n",
       "      <td>5</td>\n",
       "      <td>1</td>\n",
       "      <td>NaN</td>\n",
       "      <td>NaN</td>\n",
       "      <td>NaN</td>\n",
       "      <td>NaN</td>\n",
       "    </tr>\n",
       "    <tr>\n",
       "      <th>21</th>\n",
       "      <td>2258</td>\n",
       "      <td>38.0</td>\n",
       "      <td>151.0</td>\n",
       "      <td>0.0</td>\n",
       "      <td>2000.00</td>\n",
       "      <td>180.0</td>\n",
       "      <td>2</td>\n",
       "      <td>1.0</td>\n",
       "      <td>5</td>\n",
       "      <td>1</td>\n",
       "      <td>NaN</td>\n",
       "      <td>NaN</td>\n",
       "      <td>NaN</td>\n",
       "      <td>NaN</td>\n",
       "    </tr>\n",
       "    <tr>\n",
       "      <th>22</th>\n",
       "      <td>2261</td>\n",
       "      <td>26.0</td>\n",
       "      <td>148.0</td>\n",
       "      <td>12.0</td>\n",
       "      <td>2052.84</td>\n",
       "      <td>196.0</td>\n",
       "      <td>2</td>\n",
       "      <td>1.0</td>\n",
       "      <td>2</td>\n",
       "      <td>1</td>\n",
       "      <td>NaN</td>\n",
       "      <td>NaN</td>\n",
       "      <td>NaN</td>\n",
       "      <td>NaN</td>\n",
       "    </tr>\n",
       "    <tr>\n",
       "      <th>23</th>\n",
       "      <td>2262</td>\n",
       "      <td>26.0</td>\n",
       "      <td>142.0</td>\n",
       "      <td>21.0</td>\n",
       "      <td>1500.00</td>\n",
       "      <td>178.0</td>\n",
       "      <td>2</td>\n",
       "      <td>3.0</td>\n",
       "      <td>2</td>\n",
       "      <td>1</td>\n",
       "      <td>NaN</td>\n",
       "      <td>NaN</td>\n",
       "      <td>NaN</td>\n",
       "      <td>NaN</td>\n",
       "    </tr>\n",
       "    <tr>\n",
       "      <th>24</th>\n",
       "      <td>2263</td>\n",
       "      <td>40.0</td>\n",
       "      <td>130.0</td>\n",
       "      <td>5.0</td>\n",
       "      <td>3486.70</td>\n",
       "      <td>216.0</td>\n",
       "      <td>4</td>\n",
       "      <td>2.0</td>\n",
       "      <td>5</td>\n",
       "      <td>1</td>\n",
       "      <td>NaN</td>\n",
       "      <td>NaN</td>\n",
       "      <td>NaN</td>\n",
       "      <td>NaN</td>\n",
       "    </tr>\n",
       "    <tr>\n",
       "      <th>25</th>\n",
       "      <td>2264</td>\n",
       "      <td>30.0</td>\n",
       "      <td>119.0</td>\n",
       "      <td>0.0</td>\n",
       "      <td>2833.55</td>\n",
       "      <td>211.0</td>\n",
       "      <td>2</td>\n",
       "      <td>1.0</td>\n",
       "      <td>5</td>\n",
       "      <td>1</td>\n",
       "      <td>NaN</td>\n",
       "      <td>NaN</td>\n",
       "      <td>NaN</td>\n",
       "      <td>NaN</td>\n",
       "    </tr>\n",
       "    <tr>\n",
       "      <th>26</th>\n",
       "      <td>2267</td>\n",
       "      <td>24.0</td>\n",
       "      <td>110.0</td>\n",
       "      <td>0.0</td>\n",
       "      <td>909.03</td>\n",
       "      <td>156.0</td>\n",
       "      <td>2</td>\n",
       "      <td>1.0</td>\n",
       "      <td>5</td>\n",
       "      <td>1</td>\n",
       "      <td>NaN</td>\n",
       "      <td>NaN</td>\n",
       "      <td>NaN</td>\n",
       "      <td>NaN</td>\n",
       "    </tr>\n",
       "    <tr>\n",
       "      <th>27</th>\n",
       "      <td>2269</td>\n",
       "      <td>35.0</td>\n",
       "      <td>184.0</td>\n",
       "      <td>0.0</td>\n",
       "      <td>9072.00</td>\n",
       "      <td>210.0</td>\n",
       "      <td>4</td>\n",
       "      <td>3.0</td>\n",
       "      <td>5</td>\n",
       "      <td>1</td>\n",
       "      <td>NaN</td>\n",
       "      <td>NaN</td>\n",
       "      <td>NaN</td>\n",
       "      <td>NaN</td>\n",
       "    </tr>\n",
       "    <tr>\n",
       "      <th>28</th>\n",
       "      <td>2270</td>\n",
       "      <td>29.0</td>\n",
       "      <td>147.0</td>\n",
       "      <td>0.0</td>\n",
       "      <td>1500.00</td>\n",
       "      <td>196.0</td>\n",
       "      <td>4</td>\n",
       "      <td>1.0</td>\n",
       "      <td>5</td>\n",
       "      <td>1</td>\n",
       "      <td>NaN</td>\n",
       "      <td>NaN</td>\n",
       "      <td>NaN</td>\n",
       "      <td>NaN</td>\n",
       "    </tr>\n",
       "    <tr>\n",
       "      <th>29</th>\n",
       "      <td>2274</td>\n",
       "      <td>23.0</td>\n",
       "      <td>162.0</td>\n",
       "      <td>8.0</td>\n",
       "      <td>1117.60</td>\n",
       "      <td>168.0</td>\n",
       "      <td>4</td>\n",
       "      <td>5.0</td>\n",
       "      <td>5</td>\n",
       "      <td>1</td>\n",
       "      <td>NaN</td>\n",
       "      <td>NaN</td>\n",
       "      <td>NaN</td>\n",
       "      <td>NaN</td>\n",
       "    </tr>\n",
       "    <tr>\n",
       "      <th>...</th>\n",
       "      <td>...</td>\n",
       "      <td>...</td>\n",
       "      <td>...</td>\n",
       "      <td>...</td>\n",
       "      <td>...</td>\n",
       "      <td>...</td>\n",
       "      <td>...</td>\n",
       "      <td>...</td>\n",
       "      <td>...</td>\n",
       "      <td>...</td>\n",
       "      <td>...</td>\n",
       "      <td>...</td>\n",
       "      <td>...</td>\n",
       "      <td>...</td>\n",
       "    </tr>\n",
       "    <tr>\n",
       "      <th>4470</th>\n",
       "      <td>1446</td>\n",
       "      <td>38.0</td>\n",
       "      <td>220.0</td>\n",
       "      <td>0.0</td>\n",
       "      <td>24000.00</td>\n",
       "      <td>206.0</td>\n",
       "      <td>2</td>\n",
       "      <td>1.0</td>\n",
       "      <td>5</td>\n",
       "      <td>0</td>\n",
       "      <td>NaN</td>\n",
       "      <td>NaN</td>\n",
       "      <td>NaN</td>\n",
       "      <td>NaN</td>\n",
       "    </tr>\n",
       "    <tr>\n",
       "      <th>4471</th>\n",
       "      <td>1451</td>\n",
       "      <td>37.0</td>\n",
       "      <td>283.0</td>\n",
       "      <td>88.0</td>\n",
       "      <td>6000.00</td>\n",
       "      <td>202.0</td>\n",
       "      <td>2</td>\n",
       "      <td>5.0</td>\n",
       "      <td>2</td>\n",
       "      <td>0</td>\n",
       "      <td>NaN</td>\n",
       "      <td>NaN</td>\n",
       "      <td>NaN</td>\n",
       "      <td>NaN</td>\n",
       "    </tr>\n",
       "    <tr>\n",
       "      <th>4472</th>\n",
       "      <td>1453</td>\n",
       "      <td>47.0</td>\n",
       "      <td>246.0</td>\n",
       "      <td>106.0</td>\n",
       "      <td>9000.00</td>\n",
       "      <td>205.0</td>\n",
       "      <td>2</td>\n",
       "      <td>1.0</td>\n",
       "      <td>2</td>\n",
       "      <td>0</td>\n",
       "      <td>NaN</td>\n",
       "      <td>NaN</td>\n",
       "      <td>NaN</td>\n",
       "      <td>NaN</td>\n",
       "    </tr>\n",
       "    <tr>\n",
       "      <th>4473</th>\n",
       "      <td>1454</td>\n",
       "      <td>30.0</td>\n",
       "      <td>258.0</td>\n",
       "      <td>89.0</td>\n",
       "      <td>10500.00</td>\n",
       "      <td>238.0</td>\n",
       "      <td>4</td>\n",
       "      <td>1.0</td>\n",
       "      <td>4</td>\n",
       "      <td>0</td>\n",
       "      <td>NaN</td>\n",
       "      <td>NaN</td>\n",
       "      <td>NaN</td>\n",
       "      <td>NaN</td>\n",
       "    </tr>\n",
       "    <tr>\n",
       "      <th>4474</th>\n",
       "      <td>1455</td>\n",
       "      <td>28.0</td>\n",
       "      <td>132.0</td>\n",
       "      <td>61.0</td>\n",
       "      <td>5100.00</td>\n",
       "      <td>NaN</td>\n",
       "      <td>2</td>\n",
       "      <td>1.0</td>\n",
       "      <td>2</td>\n",
       "      <td>0</td>\n",
       "      <td>NaN</td>\n",
       "      <td>NaN</td>\n",
       "      <td>NaN</td>\n",
       "      <td>NaN</td>\n",
       "    </tr>\n",
       "    <tr>\n",
       "      <th>4475</th>\n",
       "      <td>1461</td>\n",
       "      <td>46.0</td>\n",
       "      <td>330.0</td>\n",
       "      <td>90.0</td>\n",
       "      <td>30000.00</td>\n",
       "      <td>196.0</td>\n",
       "      <td>4</td>\n",
       "      <td>1.0</td>\n",
       "      <td>3</td>\n",
       "      <td>0</td>\n",
       "      <td>NaN</td>\n",
       "      <td>NaN</td>\n",
       "      <td>NaN</td>\n",
       "      <td>NaN</td>\n",
       "    </tr>\n",
       "    <tr>\n",
       "      <th>4476</th>\n",
       "      <td>1464</td>\n",
       "      <td>38.0</td>\n",
       "      <td>183.0</td>\n",
       "      <td>58.0</td>\n",
       "      <td>8000.00</td>\n",
       "      <td>221.0</td>\n",
       "      <td>4</td>\n",
       "      <td>1.0</td>\n",
       "      <td>2</td>\n",
       "      <td>0</td>\n",
       "      <td>NaN</td>\n",
       "      <td>NaN</td>\n",
       "      <td>NaN</td>\n",
       "      <td>NaN</td>\n",
       "    </tr>\n",
       "    <tr>\n",
       "      <th>4477</th>\n",
       "      <td>1465</td>\n",
       "      <td>51.0</td>\n",
       "      <td>157.0</td>\n",
       "      <td>106.0</td>\n",
       "      <td>9000.00</td>\n",
       "      <td>197.0</td>\n",
       "      <td>4</td>\n",
       "      <td>1.0</td>\n",
       "      <td>4</td>\n",
       "      <td>0</td>\n",
       "      <td>NaN</td>\n",
       "      <td>NaN</td>\n",
       "      <td>NaN</td>\n",
       "      <td>NaN</td>\n",
       "    </tr>\n",
       "    <tr>\n",
       "      <th>4478</th>\n",
       "      <td>1467</td>\n",
       "      <td>42.0</td>\n",
       "      <td>249.0</td>\n",
       "      <td>107.0</td>\n",
       "      <td>18000.00</td>\n",
       "      <td>238.0</td>\n",
       "      <td>4</td>\n",
       "      <td>1.0</td>\n",
       "      <td>2</td>\n",
       "      <td>0</td>\n",
       "      <td>NaN</td>\n",
       "      <td>NaN</td>\n",
       "      <td>NaN</td>\n",
       "      <td>NaN</td>\n",
       "    </tr>\n",
       "    <tr>\n",
       "      <th>4479</th>\n",
       "      <td>1470</td>\n",
       "      <td>37.0</td>\n",
       "      <td>282.0</td>\n",
       "      <td>60.0</td>\n",
       "      <td>19500.00</td>\n",
       "      <td>221.0</td>\n",
       "      <td>4</td>\n",
       "      <td>1.0</td>\n",
       "      <td>2</td>\n",
       "      <td>0</td>\n",
       "      <td>NaN</td>\n",
       "      <td>NaN</td>\n",
       "      <td>NaN</td>\n",
       "      <td>NaN</td>\n",
       "    </tr>\n",
       "    <tr>\n",
       "      <th>4480</th>\n",
       "      <td>1473</td>\n",
       "      <td>45.0</td>\n",
       "      <td>217.0</td>\n",
       "      <td>68.0</td>\n",
       "      <td>29180.00</td>\n",
       "      <td>205.0</td>\n",
       "      <td>2</td>\n",
       "      <td>1.0</td>\n",
       "      <td>4</td>\n",
       "      <td>0</td>\n",
       "      <td>NaN</td>\n",
       "      <td>NaN</td>\n",
       "      <td>NaN</td>\n",
       "      <td>NaN</td>\n",
       "    </tr>\n",
       "    <tr>\n",
       "      <th>4481</th>\n",
       "      <td>1474</td>\n",
       "      <td>63.0</td>\n",
       "      <td>158.0</td>\n",
       "      <td>91.0</td>\n",
       "      <td>18000.00</td>\n",
       "      <td>218.0</td>\n",
       "      <td>4</td>\n",
       "      <td>1.0</td>\n",
       "      <td>2</td>\n",
       "      <td>0</td>\n",
       "      <td>NaN</td>\n",
       "      <td>NaN</td>\n",
       "      <td>NaN</td>\n",
       "      <td>NaN</td>\n",
       "    </tr>\n",
       "    <tr>\n",
       "      <th>4482</th>\n",
       "      <td>1476</td>\n",
       "      <td>36.0</td>\n",
       "      <td>200.0</td>\n",
       "      <td>39.0</td>\n",
       "      <td>19500.00</td>\n",
       "      <td>220.0</td>\n",
       "      <td>4</td>\n",
       "      <td>1.0</td>\n",
       "      <td>2</td>\n",
       "      <td>0</td>\n",
       "      <td>NaN</td>\n",
       "      <td>NaN</td>\n",
       "      <td>NaN</td>\n",
       "      <td>NaN</td>\n",
       "    </tr>\n",
       "    <tr>\n",
       "      <th>4483</th>\n",
       "      <td>1477</td>\n",
       "      <td>36.0</td>\n",
       "      <td>210.0</td>\n",
       "      <td>98.0</td>\n",
       "      <td>21300.00</td>\n",
       "      <td>221.0</td>\n",
       "      <td>4</td>\n",
       "      <td>1.0</td>\n",
       "      <td>2</td>\n",
       "      <td>0</td>\n",
       "      <td>NaN</td>\n",
       "      <td>NaN</td>\n",
       "      <td>NaN</td>\n",
       "      <td>NaN</td>\n",
       "    </tr>\n",
       "    <tr>\n",
       "      <th>4484</th>\n",
       "      <td>1478</td>\n",
       "      <td>40.0</td>\n",
       "      <td>269.0</td>\n",
       "      <td>87.0</td>\n",
       "      <td>30000.00</td>\n",
       "      <td>224.0</td>\n",
       "      <td>4</td>\n",
       "      <td>1.0</td>\n",
       "      <td>2</td>\n",
       "      <td>0</td>\n",
       "      <td>NaN</td>\n",
       "      <td>NaN</td>\n",
       "      <td>NaN</td>\n",
       "      <td>NaN</td>\n",
       "    </tr>\n",
       "    <tr>\n",
       "      <th>4485</th>\n",
       "      <td>1479</td>\n",
       "      <td>49.0</td>\n",
       "      <td>210.0</td>\n",
       "      <td>95.0</td>\n",
       "      <td>27000.00</td>\n",
       "      <td>219.0</td>\n",
       "      <td>2</td>\n",
       "      <td>1.0</td>\n",
       "      <td>2</td>\n",
       "      <td>0</td>\n",
       "      <td>NaN</td>\n",
       "      <td>NaN</td>\n",
       "      <td>NaN</td>\n",
       "      <td>NaN</td>\n",
       "    </tr>\n",
       "    <tr>\n",
       "      <th>4486</th>\n",
       "      <td>1481</td>\n",
       "      <td>39.0</td>\n",
       "      <td>210.0</td>\n",
       "      <td>0.0</td>\n",
       "      <td>15000.00</td>\n",
       "      <td>209.0</td>\n",
       "      <td>2</td>\n",
       "      <td>1.0</td>\n",
       "      <td>2</td>\n",
       "      <td>0</td>\n",
       "      <td>NaN</td>\n",
       "      <td>NaN</td>\n",
       "      <td>NaN</td>\n",
       "      <td>NaN</td>\n",
       "    </tr>\n",
       "    <tr>\n",
       "      <th>4487</th>\n",
       "      <td>1482</td>\n",
       "      <td>49.0</td>\n",
       "      <td>196.0</td>\n",
       "      <td>33.0</td>\n",
       "      <td>26000.00</td>\n",
       "      <td>222.0</td>\n",
       "      <td>4</td>\n",
       "      <td>1.0</td>\n",
       "      <td>2</td>\n",
       "      <td>0</td>\n",
       "      <td>NaN</td>\n",
       "      <td>NaN</td>\n",
       "      <td>NaN</td>\n",
       "      <td>NaN</td>\n",
       "    </tr>\n",
       "    <tr>\n",
       "      <th>4488</th>\n",
       "      <td>1483</td>\n",
       "      <td>34.0</td>\n",
       "      <td>227.0</td>\n",
       "      <td>121.0</td>\n",
       "      <td>15600.00</td>\n",
       "      <td>232.0</td>\n",
       "      <td>4</td>\n",
       "      <td>3.0</td>\n",
       "      <td>5</td>\n",
       "      <td>0</td>\n",
       "      <td>NaN</td>\n",
       "      <td>NaN</td>\n",
       "      <td>NaN</td>\n",
       "      <td>NaN</td>\n",
       "    </tr>\n",
       "    <tr>\n",
       "      <th>4489</th>\n",
       "      <td>1485</td>\n",
       "      <td>48.0</td>\n",
       "      <td>210.0</td>\n",
       "      <td>100.0</td>\n",
       "      <td>2100.00</td>\n",
       "      <td>216.0</td>\n",
       "      <td>4</td>\n",
       "      <td>1.0</td>\n",
       "      <td>2</td>\n",
       "      <td>0</td>\n",
       "      <td>NaN</td>\n",
       "      <td>NaN</td>\n",
       "      <td>NaN</td>\n",
       "      <td>NaN</td>\n",
       "    </tr>\n",
       "    <tr>\n",
       "      <th>4490</th>\n",
       "      <td>1486</td>\n",
       "      <td>59.0</td>\n",
       "      <td>288.0</td>\n",
       "      <td>0.0</td>\n",
       "      <td>30000.00</td>\n",
       "      <td>207.0</td>\n",
       "      <td>2</td>\n",
       "      <td>1.0</td>\n",
       "      <td>2</td>\n",
       "      <td>0</td>\n",
       "      <td>NaN</td>\n",
       "      <td>NaN</td>\n",
       "      <td>NaN</td>\n",
       "      <td>NaN</td>\n",
       "    </tr>\n",
       "    <tr>\n",
       "      <th>4491</th>\n",
       "      <td>1487</td>\n",
       "      <td>55.0</td>\n",
       "      <td>294.0</td>\n",
       "      <td>57.0</td>\n",
       "      <td>9300.00</td>\n",
       "      <td>238.0</td>\n",
       "      <td>4</td>\n",
       "      <td>1.0</td>\n",
       "      <td>2</td>\n",
       "      <td>0</td>\n",
       "      <td>NaN</td>\n",
       "      <td>NaN</td>\n",
       "      <td>NaN</td>\n",
       "      <td>NaN</td>\n",
       "    </tr>\n",
       "    <tr>\n",
       "      <th>4492</th>\n",
       "      <td>1488</td>\n",
       "      <td>53.0</td>\n",
       "      <td>148.0</td>\n",
       "      <td>106.0</td>\n",
       "      <td>30000.00</td>\n",
       "      <td>219.0</td>\n",
       "      <td>4</td>\n",
       "      <td>1.0</td>\n",
       "      <td>2</td>\n",
       "      <td>0</td>\n",
       "      <td>NaN</td>\n",
       "      <td>NaN</td>\n",
       "      <td>NaN</td>\n",
       "      <td>NaN</td>\n",
       "    </tr>\n",
       "    <tr>\n",
       "      <th>4493</th>\n",
       "      <td>1491</td>\n",
       "      <td>29.0</td>\n",
       "      <td>198.0</td>\n",
       "      <td>94.0</td>\n",
       "      <td>5250.00</td>\n",
       "      <td>214.0</td>\n",
       "      <td>2</td>\n",
       "      <td>1.0</td>\n",
       "      <td>2</td>\n",
       "      <td>0</td>\n",
       "      <td>NaN</td>\n",
       "      <td>NaN</td>\n",
       "      <td>NaN</td>\n",
       "      <td>NaN</td>\n",
       "    </tr>\n",
       "    <tr>\n",
       "      <th>4494</th>\n",
       "      <td>1493</td>\n",
       "      <td>32.0</td>\n",
       "      <td>195.0</td>\n",
       "      <td>41.0</td>\n",
       "      <td>7500.00</td>\n",
       "      <td>219.0</td>\n",
       "      <td>2</td>\n",
       "      <td>1.0</td>\n",
       "      <td>2</td>\n",
       "      <td>0</td>\n",
       "      <td>NaN</td>\n",
       "      <td>NaN</td>\n",
       "      <td>NaN</td>\n",
       "      <td>NaN</td>\n",
       "    </tr>\n",
       "    <tr>\n",
       "      <th>4495</th>\n",
       "      <td>1494</td>\n",
       "      <td>54.0</td>\n",
       "      <td>510.0</td>\n",
       "      <td>87.0</td>\n",
       "      <td>24000.00</td>\n",
       "      <td>214.0</td>\n",
       "      <td>2</td>\n",
       "      <td>1.0</td>\n",
       "      <td>2</td>\n",
       "      <td>0</td>\n",
       "      <td>NaN</td>\n",
       "      <td>NaN</td>\n",
       "      <td>NaN</td>\n",
       "      <td>NaN</td>\n",
       "    </tr>\n",
       "    <tr>\n",
       "      <th>4496</th>\n",
       "      <td>1495</td>\n",
       "      <td>63.0</td>\n",
       "      <td>305.0</td>\n",
       "      <td>99.0</td>\n",
       "      <td>9880.73</td>\n",
       "      <td>219.0</td>\n",
       "      <td>2</td>\n",
       "      <td>5.0</td>\n",
       "      <td>2</td>\n",
       "      <td>0</td>\n",
       "      <td>NaN</td>\n",
       "      <td>NaN</td>\n",
       "      <td>NaN</td>\n",
       "      <td>NaN</td>\n",
       "    </tr>\n",
       "    <tr>\n",
       "      <th>4497</th>\n",
       "      <td>1496</td>\n",
       "      <td>48.0</td>\n",
       "      <td>194.0</td>\n",
       "      <td>124.0</td>\n",
       "      <td>23000.00</td>\n",
       "      <td>224.0</td>\n",
       "      <td>4</td>\n",
       "      <td>1.0</td>\n",
       "      <td>2</td>\n",
       "      <td>0</td>\n",
       "      <td>NaN</td>\n",
       "      <td>NaN</td>\n",
       "      <td>NaN</td>\n",
       "      <td>NaN</td>\n",
       "    </tr>\n",
       "    <tr>\n",
       "      <th>4498</th>\n",
       "      <td>1497</td>\n",
       "      <td>39.0</td>\n",
       "      <td>245.0</td>\n",
       "      <td>121.0</td>\n",
       "      <td>12450.00</td>\n",
       "      <td>240.0</td>\n",
       "      <td>4</td>\n",
       "      <td>5.0</td>\n",
       "      <td>2</td>\n",
       "      <td>0</td>\n",
       "      <td>NaN</td>\n",
       "      <td>NaN</td>\n",
       "      <td>NaN</td>\n",
       "      <td>NaN</td>\n",
       "    </tr>\n",
       "    <tr>\n",
       "      <th>4499</th>\n",
       "      <td>1499</td>\n",
       "      <td>65.0</td>\n",
       "      <td>674.0</td>\n",
       "      <td>38.0</td>\n",
       "      <td>20000.00</td>\n",
       "      <td>238.0</td>\n",
       "      <td>4</td>\n",
       "      <td>5.0</td>\n",
       "      <td>2</td>\n",
       "      <td>0</td>\n",
       "      <td>NaN</td>\n",
       "      <td>NaN</td>\n",
       "      <td>NaN</td>\n",
       "      <td>NaN</td>\n",
       "    </tr>\n",
       "  </tbody>\n",
       "</table>\n",
       "<p>4500 rows × 14 columns</p>\n",
       "</div>"
      ],
      "text/plain": [
       "        ID  edad  meses  max_ant   ingreso  score  tipo_vivienda  zona  nivel  \\\n",
       "0     2208  33.0  128.0      6.0   3230.00  192.0              2   3.0      2   \n",
       "1     2211  32.0  185.0      7.0   2930.00  217.0              2   1.0      5   \n",
       "2     2212  28.0    NaN      7.0   1883.70  202.0              2   1.0      2   \n",
       "3     2216  56.0  200.0      0.0    850.00  194.0              2   1.0      5   \n",
       "4     2218  32.0  131.0     65.0   3200.00  200.0              2   1.0      2   \n",
       "5     2219  34.0  145.0      6.0   7000.00  196.0              2   5.0      2   \n",
       "6     2226   NaN  114.0      0.0   2171.50  178.0              2   2.0      1   \n",
       "7     2227  27.0  116.0      0.0    800.00  169.0              2   1.0      5   \n",
       "8     2228  26.0  182.0      6.0   3150.00  190.0              4   3.0      5   \n",
       "9     2230  25.0  154.0      1.0   2600.00  189.0              2   1.0      2   \n",
       "10    2233  49.0  203.0      0.0   6350.00  224.0              4   1.0      2   \n",
       "11    2234  49.0  159.0      0.0   3330.00  221.0              2   1.0      5   \n",
       "12    2235  28.0  127.0      0.0   1400.00  177.0              2   1.0      5   \n",
       "13    2236  30.0  137.0      0.0   6000.00  192.0              2   1.0      5   \n",
       "14    2238  45.0  151.0     18.0   1050.00  173.0              2   4.0      5   \n",
       "15    2240  21.0  118.0      0.0       NaN  175.0              4   1.0      5   \n",
       "16    2244  37.0  330.0      8.0   2432.00  174.0              2   3.0      5   \n",
       "17    2247  36.0  257.0      0.0   1400.00  186.0              2   3.0      2   \n",
       "18    2248  32.0  163.0      0.0   3000.00  175.0              2   3.0      5   \n",
       "19    2252  25.0  128.0      0.0    889.98  169.0              2   1.0      5   \n",
       "20    2254  32.0  127.0      0.0   1200.00  175.0              2   1.0      5   \n",
       "21    2258  38.0  151.0      0.0   2000.00  180.0              2   1.0      5   \n",
       "22    2261  26.0  148.0     12.0   2052.84  196.0              2   1.0      2   \n",
       "23    2262  26.0  142.0     21.0   1500.00  178.0              2   3.0      2   \n",
       "24    2263  40.0  130.0      5.0   3486.70  216.0              4   2.0      5   \n",
       "25    2264  30.0  119.0      0.0   2833.55  211.0              2   1.0      5   \n",
       "26    2267  24.0  110.0      0.0    909.03  156.0              2   1.0      5   \n",
       "27    2269  35.0  184.0      0.0   9072.00  210.0              4   3.0      5   \n",
       "28    2270  29.0  147.0      0.0   1500.00  196.0              4   1.0      5   \n",
       "29    2274  23.0  162.0      8.0   1117.60  168.0              4   5.0      5   \n",
       "...    ...   ...    ...      ...       ...    ...            ...   ...    ...   \n",
       "4470  1446  38.0  220.0      0.0  24000.00  206.0              2   1.0      5   \n",
       "4471  1451  37.0  283.0     88.0   6000.00  202.0              2   5.0      2   \n",
       "4472  1453  47.0  246.0    106.0   9000.00  205.0              2   1.0      2   \n",
       "4473  1454  30.0  258.0     89.0  10500.00  238.0              4   1.0      4   \n",
       "4474  1455  28.0  132.0     61.0   5100.00    NaN              2   1.0      2   \n",
       "4475  1461  46.0  330.0     90.0  30000.00  196.0              4   1.0      3   \n",
       "4476  1464  38.0  183.0     58.0   8000.00  221.0              4   1.0      2   \n",
       "4477  1465  51.0  157.0    106.0   9000.00  197.0              4   1.0      4   \n",
       "4478  1467  42.0  249.0    107.0  18000.00  238.0              4   1.0      2   \n",
       "4479  1470  37.0  282.0     60.0  19500.00  221.0              4   1.0      2   \n",
       "4480  1473  45.0  217.0     68.0  29180.00  205.0              2   1.0      4   \n",
       "4481  1474  63.0  158.0     91.0  18000.00  218.0              4   1.0      2   \n",
       "4482  1476  36.0  200.0     39.0  19500.00  220.0              4   1.0      2   \n",
       "4483  1477  36.0  210.0     98.0  21300.00  221.0              4   1.0      2   \n",
       "4484  1478  40.0  269.0     87.0  30000.00  224.0              4   1.0      2   \n",
       "4485  1479  49.0  210.0     95.0  27000.00  219.0              2   1.0      2   \n",
       "4486  1481  39.0  210.0      0.0  15000.00  209.0              2   1.0      2   \n",
       "4487  1482  49.0  196.0     33.0  26000.00  222.0              4   1.0      2   \n",
       "4488  1483  34.0  227.0    121.0  15600.00  232.0              4   3.0      5   \n",
       "4489  1485  48.0  210.0    100.0   2100.00  216.0              4   1.0      2   \n",
       "4490  1486  59.0  288.0      0.0  30000.00  207.0              2   1.0      2   \n",
       "4491  1487  55.0  294.0     57.0   9300.00  238.0              4   1.0      2   \n",
       "4492  1488  53.0  148.0    106.0  30000.00  219.0              4   1.0      2   \n",
       "4493  1491  29.0  198.0     94.0   5250.00  214.0              2   1.0      2   \n",
       "4494  1493  32.0  195.0     41.0   7500.00  219.0              2   1.0      2   \n",
       "4495  1494  54.0  510.0     87.0  24000.00  214.0              2   1.0      2   \n",
       "4496  1495  63.0  305.0     99.0   9880.73  219.0              2   5.0      2   \n",
       "4497  1496  48.0  194.0    124.0  23000.00  224.0              4   1.0      2   \n",
       "4498  1497  39.0  245.0    121.0  12450.00  240.0              4   5.0      2   \n",
       "4499  1499  65.0  674.0     38.0  20000.00  238.0              4   5.0      2   \n",
       "\n",
       "      riesgo  Unnamed: 10  Unnamed: 11  Unnamed: 12  Unnamed: 13  \n",
       "0          1          NaN          NaN          NaN          NaN  \n",
       "1          1          NaN          NaN          NaN          NaN  \n",
       "2          1          NaN          NaN          NaN          NaN  \n",
       "3          1          NaN          NaN          NaN          NaN  \n",
       "4          1          NaN          NaN          NaN          NaN  \n",
       "5          1          NaN          NaN          NaN          NaN  \n",
       "6          1          NaN          NaN          NaN          NaN  \n",
       "7          1          NaN          NaN          NaN          NaN  \n",
       "8          1          NaN          NaN          NaN          NaN  \n",
       "9          1          NaN          NaN          NaN          NaN  \n",
       "10         1          NaN          NaN          NaN          NaN  \n",
       "11         1          NaN          NaN          NaN          NaN  \n",
       "12         1          NaN          NaN          NaN          NaN  \n",
       "13         1          NaN          NaN          NaN          NaN  \n",
       "14         1          NaN          NaN          NaN          NaN  \n",
       "15         1          NaN          NaN          NaN          NaN  \n",
       "16         1          NaN          NaN          NaN          NaN  \n",
       "17         1          NaN          NaN          NaN          NaN  \n",
       "18         1          NaN          NaN          NaN          NaN  \n",
       "19         1          NaN          NaN          NaN          NaN  \n",
       "20         1          NaN          NaN          NaN          NaN  \n",
       "21         1          NaN          NaN          NaN          NaN  \n",
       "22         1          NaN          NaN          NaN          NaN  \n",
       "23         1          NaN          NaN          NaN          NaN  \n",
       "24         1          NaN          NaN          NaN          NaN  \n",
       "25         1          NaN          NaN          NaN          NaN  \n",
       "26         1          NaN          NaN          NaN          NaN  \n",
       "27         1          NaN          NaN          NaN          NaN  \n",
       "28         1          NaN          NaN          NaN          NaN  \n",
       "29         1          NaN          NaN          NaN          NaN  \n",
       "...      ...          ...          ...          ...          ...  \n",
       "4470       0          NaN          NaN          NaN          NaN  \n",
       "4471       0          NaN          NaN          NaN          NaN  \n",
       "4472       0          NaN          NaN          NaN          NaN  \n",
       "4473       0          NaN          NaN          NaN          NaN  \n",
       "4474       0          NaN          NaN          NaN          NaN  \n",
       "4475       0          NaN          NaN          NaN          NaN  \n",
       "4476       0          NaN          NaN          NaN          NaN  \n",
       "4477       0          NaN          NaN          NaN          NaN  \n",
       "4478       0          NaN          NaN          NaN          NaN  \n",
       "4479       0          NaN          NaN          NaN          NaN  \n",
       "4480       0          NaN          NaN          NaN          NaN  \n",
       "4481       0          NaN          NaN          NaN          NaN  \n",
       "4482       0          NaN          NaN          NaN          NaN  \n",
       "4483       0          NaN          NaN          NaN          NaN  \n",
       "4484       0          NaN          NaN          NaN          NaN  \n",
       "4485       0          NaN          NaN          NaN          NaN  \n",
       "4486       0          NaN          NaN          NaN          NaN  \n",
       "4487       0          NaN          NaN          NaN          NaN  \n",
       "4488       0          NaN          NaN          NaN          NaN  \n",
       "4489       0          NaN          NaN          NaN          NaN  \n",
       "4490       0          NaN          NaN          NaN          NaN  \n",
       "4491       0          NaN          NaN          NaN          NaN  \n",
       "4492       0          NaN          NaN          NaN          NaN  \n",
       "4493       0          NaN          NaN          NaN          NaN  \n",
       "4494       0          NaN          NaN          NaN          NaN  \n",
       "4495       0          NaN          NaN          NaN          NaN  \n",
       "4496       0          NaN          NaN          NaN          NaN  \n",
       "4497       0          NaN          NaN          NaN          NaN  \n",
       "4498       0          NaN          NaN          NaN          NaN  \n",
       "4499       0          NaN          NaN          NaN          NaN  \n",
       "\n",
       "[4500 rows x 14 columns]"
      ]
     },
     "execution_count": 17,
     "metadata": {},
     "output_type": "execute_result"
    }
   ],
   "source": [
    "train = pd.read_csv(\"data/Morosidad_Train.csv\")\n",
    "train"
   ]
  },
  {
   "cell_type": "code",
   "execution_count": 18,
   "metadata": {},
   "outputs": [
    {
     "data": {
      "text/plain": [
       "pandas.core.frame.DataFrame"
      ]
     },
     "execution_count": 18,
     "metadata": {},
     "output_type": "execute_result"
    }
   ],
   "source": [
    "type(train)"
   ]
  },
  {
   "cell_type": "code",
   "execution_count": 19,
   "metadata": {},
   "outputs": [],
   "source": [
    "df_pandas = spark.createDataFrame(train)"
   ]
  },
  {
   "cell_type": "code",
   "execution_count": 20,
   "metadata": {
    "scrolled": true
   },
   "outputs": [
    {
     "data": {
      "text/plain": [
       "pyspark.sql.dataframe.DataFrame"
      ]
     },
     "execution_count": 20,
     "metadata": {},
     "output_type": "execute_result"
    }
   ],
   "source": [
    "type(df_pandas)"
   ]
  },
  {
   "cell_type": "code",
   "execution_count": 22,
   "metadata": {},
   "outputs": [
    {
     "name": "stdout",
     "output_type": "stream",
     "text": [
      "+----+----+-----+-------+-------+-----+-------------+----+-----+------+-----------+-----------+-----------+-----------+\n",
      "|  ID|edad|meses|max_ant|ingreso|score|tipo_vivienda|zona|nivel|riesgo|Unnamed: 10|Unnamed: 11|Unnamed: 12|Unnamed: 13|\n",
      "+----+----+-----+-------+-------+-----+-------------+----+-----+------+-----------+-----------+-----------+-----------+\n",
      "|2208|33.0|128.0|    6.0| 3230.0|192.0|            2| 3.0|    2|     1|        NaN|        NaN|        NaN|        NaN|\n",
      "|2211|32.0|185.0|    7.0| 2930.0|217.0|            2| 1.0|    5|     1|        NaN|        NaN|        NaN|        NaN|\n",
      "|2212|28.0|  NaN|    7.0| 1883.7|202.0|            2| 1.0|    2|     1|        NaN|        NaN|        NaN|        NaN|\n",
      "|2216|56.0|200.0|    0.0|  850.0|194.0|            2| 1.0|    5|     1|        NaN|        NaN|        NaN|        NaN|\n",
      "|2218|32.0|131.0|   65.0| 3200.0|200.0|            2| 1.0|    2|     1|        NaN|        NaN|        NaN|        NaN|\n",
      "|2219|34.0|145.0|    6.0| 7000.0|196.0|            2| 5.0|    2|     1|        NaN|        NaN|        NaN|        NaN|\n",
      "|2226| NaN|114.0|    0.0| 2171.5|178.0|            2| 2.0|    1|     1|        NaN|        NaN|        NaN|        NaN|\n",
      "|2227|27.0|116.0|    0.0|  800.0|169.0|            2| 1.0|    5|     1|        NaN|        NaN|        NaN|        NaN|\n",
      "|2228|26.0|182.0|    6.0| 3150.0|190.0|            4| 3.0|    5|     1|        NaN|        NaN|        NaN|        NaN|\n",
      "|2230|25.0|154.0|    1.0| 2600.0|189.0|            2| 1.0|    2|     1|        NaN|        NaN|        NaN|        NaN|\n",
      "+----+----+-----+-------+-------+-----+-------------+----+-----+------+-----------+-----------+-----------+-----------+\n",
      "only showing top 10 rows\n",
      "\n"
     ]
    }
   ],
   "source": [
    "df_pandas.show(10)"
   ]
  },
  {
   "cell_type": "code",
   "execution_count": 23,
   "metadata": {},
   "outputs": [
    {
     "name": "stdout",
     "output_type": "stream",
     "text": [
      "+-------------------+--------------------+------------------+\n",
      "|                  0|                   1|                 2|\n",
      "+-------------------+--------------------+------------------+\n",
      "| 0.4917864968216836|   0.842204932479089|0.6553562025033978|\n",
      "|0.09353820374164656|0.013412510339914974|0.8057698033526446|\n",
      "|0.22547327227439795|  0.4741230264728803|0.7968413016496748|\n",
      "|0.47748463519520534| 0.23839316457423787|0.9274139273507594|\n",
      "| 0.9457946919587453|  0.1714398236017195|0.6114985153621646|\n",
      "+-------------------+--------------------+------------------+\n",
      "only showing top 5 rows\n",
      "\n"
     ]
    }
   ],
   "source": [
    "pdf = pd.DataFrame(np.random.rand(100, 3))\n",
    "df_pandas = spark.createDataFrame(pdf)\n",
    "df_pandas.show(5)"
   ]
  },
  {
   "cell_type": "code",
   "execution_count": 25,
   "metadata": {},
   "outputs": [],
   "source": [
    "columns = ['id', 'dogs', 'cats']\n",
    "vals = [\n",
    "     (1, 2, 0),\n",
    "     (2, 0, 1)\n",
    "]\n",
    "\n",
    "df = sqlContext.createDataFrame(vals, columns)"
   ]
  },
  {
   "cell_type": "code",
   "execution_count": 27,
   "metadata": {},
   "outputs": [
    {
     "name": "stdout",
     "output_type": "stream",
     "text": [
      "+---+----+----+\n",
      "| id|dogs|cats|\n",
      "+---+----+----+\n",
      "|  1|   2|   0|\n",
      "|  2|   0|   1|\n",
      "+---+----+----+\n",
      "\n"
     ]
    }
   ],
   "source": [
    "df.show()"
   ]
  },
  {
   "cell_type": "code",
   "execution_count": 28,
   "metadata": {},
   "outputs": [
    {
     "ename": "NameError",
     "evalue": "name 'df_range' is not defined",
     "output_type": "error",
     "traceback": [
      "\u001b[0;31m---------------------------------------------------------------------------\u001b[0m",
      "\u001b[0;31mNameError\u001b[0m                                 Traceback (most recent call last)",
      "\u001b[0;32m<ipython-input-28-2744e4b97372>\u001b[0m in \u001b[0;36m<module>\u001b[0;34m()\u001b[0m\n\u001b[0;32m----> 1\u001b[0;31m \u001b[0mdf_range_v2\u001b[0m \u001b[0;34m=\u001b[0m \u001b[0mdf_range\u001b[0m\u001b[0;34m.\u001b[0m\u001b[0msort\u001b[0m\u001b[0;34m(\u001b[0m\u001b[0;34m\"number\"\u001b[0m\u001b[0;34m)\u001b[0m\u001b[0;34m\u001b[0m\u001b[0m\n\u001b[0m\u001b[1;32m      2\u001b[0m \u001b[0mdf_range_v3\u001b[0m \u001b[0;34m=\u001b[0m \u001b[0mdf_range_v2\u001b[0m\u001b[0;34m.\u001b[0m\u001b[0mwhere\u001b[0m\u001b[0;34m(\u001b[0m\u001b[0;34m\"number < 50\"\u001b[0m\u001b[0;34m)\u001b[0m\u001b[0;34m\u001b[0m\u001b[0m\n\u001b[1;32m      3\u001b[0m \u001b[0mdf_range\u001b[0m\u001b[0;34m\u001b[0m\u001b[0m\n",
      "\u001b[0;31mNameError\u001b[0m: name 'df_range' is not defined"
     ]
    }
   ],
   "source": [
    "df_range_v2 = df_range.sort(\"number\")\n",
    "df_range_v3 = df_range_v2.where(\"number < 50\")\n",
    "df_range"
   ]
  },
  {
   "cell_type": "code",
   "execution_count": 12,
   "metadata": {},
   "outputs": [
    {
     "name": "stdout",
     "output_type": "stream",
     "text": [
      "== Physical Plan ==\n",
      "*Sort [number#12L ASC NULLS FIRST], true, 0\n",
      "+- Exchange rangepartitioning(number#12L ASC NULLS FIRST, 200)\n",
      "   +- *Project [id#9L AS number#12L]\n",
      "      +- *Filter (id#9L < 50)\n",
      "         +- *Range (0, 100, step=1, splits=Some(1))\n"
     ]
    }
   ],
   "source": [
    "df_range_v3.explain()"
   ]
  },
  {
   "cell_type": "markdown",
   "metadata": {},
   "source": [
    "## Inspeccionando la data"
   ]
  },
  {
   "cell_type": "code",
   "execution_count": 14,
   "metadata": {},
   "outputs": [
    {
     "data": {
      "text/plain": [
       "[('ID', 'string'),\n",
       " ('edad', 'string'),\n",
       " ('meses', 'string'),\n",
       " ('max_ant', 'string'),\n",
       " ('ingreso', 'string'),\n",
       " ('score', 'string'),\n",
       " ('tipo_vivienda', 'string'),\n",
       " ('zona', 'string'),\n",
       " ('nivel', 'string')]"
      ]
     },
     "execution_count": 14,
     "metadata": {},
     "output_type": "execute_result"
    }
   ],
   "source": [
    "df_csv = spark.read.csv(\"../data/morosidad.csv\", header = True, sep = ',')\n",
    "df_csv.dtypes"
   ]
  },
  {
   "cell_type": "code",
   "execution_count": 15,
   "metadata": {},
   "outputs": [
    {
     "name": "stdout",
     "output_type": "stream",
     "text": [
      "+---+----+-----+-------+-------+-----+-------------+----+-----+\n",
      "| ID|edad|meses|max_ant|ingreso|score|tipo_vivienda|zona|nivel|\n",
      "+---+----+-----+-------+-------+-----+-------------+----+-----+\n",
      "|  1|  28|  122|      9|1115.09|  206|            4|   1|    5|\n",
      "|  2|  27|  173|     61|   2450|  205|            2|   1|    5|\n",
      "|  3|  37|  185|      4|   1390|  177|            2|   3|    5|\n",
      "|  4|  34|  262|     20|   2200|  216|            2|   1|    2|\n",
      "|  5|  40|  150|     17|  10000|  185|            2|   1|    2|\n",
      "|  6|  40|  114|      0| 903.88|  173|            2|   3|    5|\n",
      "|  7|  31|  161|      0|   3800|  192|            2|   1|    5|\n",
      "|  8|  49|  210|     44|  30000|  203|            4|   1|    3|\n",
      "|  9|  40|  194|     47|   3680|  204|            2|   1|    5|\n",
      "| 10|  36|  216|      0|   4000|  175|            2|   4|    2|\n",
      "+---+----+-----+-------+-------+-----+-------------+----+-----+\n",
      "only showing top 10 rows\n",
      "\n"
     ]
    }
   ],
   "source": [
    "df_csv.show(10)"
   ]
  },
  {
   "cell_type": "code",
   "execution_count": 16,
   "metadata": {},
   "outputs": [],
   "source": [
    "#df_csv[\"count\"] = df_csv[\"count\"].asType(\"Int\")\n",
    "#df_csv[\"count\"] = df_csv[\"count\"].cast(\"int\")\n",
    "#df_csv[\"count\"].cast(\"int\")\n",
    "df_csv = df_csv.withColumn(\"ingreso\", df_csv[\"ingreso\"].cast(\"double\"))"
   ]
  },
  {
   "cell_type": "code",
   "execution_count": 17,
   "metadata": {},
   "outputs": [
    {
     "data": {
      "text/plain": [
       "[('ID', 'string'),\n",
       " ('edad', 'string'),\n",
       " ('meses', 'string'),\n",
       " ('max_ant', 'string'),\n",
       " ('ingreso', 'double'),\n",
       " ('score', 'string'),\n",
       " ('tipo_vivienda', 'string'),\n",
       " ('zona', 'string'),\n",
       " ('nivel', 'string')]"
      ]
     },
     "execution_count": 17,
     "metadata": {},
     "output_type": "execute_result"
    }
   ],
   "source": [
    "df_csv.dtypes"
   ]
  },
  {
   "cell_type": "code",
   "execution_count": 42,
   "metadata": {},
   "outputs": [
    {
     "name": "stdout",
     "output_type": "stream",
     "text": [
      "+-----------------+-------------------+-----+\n",
      "|DEST_COUNTRY_NAME|ORIGIN_COUNTRY_NAME|count|\n",
      "+-----------------+-------------------+-----+\n",
      "|    United States|            Romania|   15|\n",
      "|    United States|            Croatia|    1|\n",
      "|    United States|            Ireland|  344|\n",
      "|            Egypt|      United States|   15|\n",
      "|    United States|              India|   62|\n",
      "+-----------------+-------------------+-----+\n",
      "only showing top 5 rows\n",
      "\n"
     ]
    }
   ],
   "source": [
    "df_csv.show(5)"
   ]
  },
  {
   "cell_type": "code",
   "execution_count": 33,
   "metadata": {},
   "outputs": [
    {
     "data": {
      "text/plain": [
       "StructType(List(StructField(DEST_COUNTRY_NAME,StringType,true),StructField(ORIGIN_COUNTRY_NAME,StringType,true),StructField(count,IntegerType,true)))"
      ]
     },
     "execution_count": 33,
     "metadata": {},
     "output_type": "execute_result"
    }
   ],
   "source": [
    "df_csv.schema"
   ]
  },
  {
   "cell_type": "code",
   "execution_count": 34,
   "metadata": {},
   "outputs": [
    {
     "data": {
      "text/plain": [
       "Row(DEST_COUNTRY_NAME='United States', ORIGIN_COUNTRY_NAME='Romania', count=15)"
      ]
     },
     "execution_count": 34,
     "metadata": {},
     "output_type": "execute_result"
    }
   ],
   "source": [
    "df_csv.head()"
   ]
  },
  {
   "cell_type": "code",
   "execution_count": 35,
   "metadata": {},
   "outputs": [
    {
     "data": {
      "text/plain": [
       "Row(DEST_COUNTRY_NAME='United States', ORIGIN_COUNTRY_NAME='Romania', count=15)"
      ]
     },
     "execution_count": 35,
     "metadata": {},
     "output_type": "execute_result"
    }
   ],
   "source": [
    "df_csv.first()"
   ]
  },
  {
   "cell_type": "code",
   "execution_count": 46,
   "metadata": {},
   "outputs": [
    {
     "data": {
      "text/plain": [
       "[Row(DEST_COUNTRY_NAME='United States', ORIGIN_COUNTRY_NAME='Romania', count=15),\n",
       " Row(DEST_COUNTRY_NAME='United States', ORIGIN_COUNTRY_NAME='Croatia', count=1)]"
      ]
     },
     "execution_count": 46,
     "metadata": {},
     "output_type": "execute_result"
    }
   ],
   "source": [
    "df_csv.take(2)"
   ]
  },
  {
   "cell_type": "code",
   "execution_count": 36,
   "metadata": {},
   "outputs": [
    {
     "data": {
      "text/plain": [
       "DataFrame[summary: string, DEST_COUNTRY_NAME: string, ORIGIN_COUNTRY_NAME: string, count: string]"
      ]
     },
     "execution_count": 36,
     "metadata": {},
     "output_type": "execute_result"
    }
   ],
   "source": [
    "df_csv.describe()"
   ]
  },
  {
   "cell_type": "code",
   "execution_count": 52,
   "metadata": {},
   "outputs": [
    {
     "data": {
      "text/plain": [
       "['DEST_COUNTRY_NAME', 'ORIGIN_COUNTRY_NAME', 'count']"
      ]
     },
     "execution_count": 52,
     "metadata": {},
     "output_type": "execute_result"
    }
   ],
   "source": [
    "df_csv.columns"
   ]
  },
  {
   "cell_type": "code",
   "execution_count": 37,
   "metadata": {},
   "outputs": [
    {
     "data": {
      "text/plain": [
       "256"
      ]
     },
     "execution_count": 37,
     "metadata": {},
     "output_type": "execute_result"
    }
   ],
   "source": [
    "df_csv.count()"
   ]
  },
  {
   "cell_type": "code",
   "execution_count": 38,
   "metadata": {},
   "outputs": [
    {
     "data": {
      "text/plain": [
       "256"
      ]
     },
     "execution_count": 38,
     "metadata": {},
     "output_type": "execute_result"
    }
   ],
   "source": [
    "df_csv.distinct().count()"
   ]
  },
  {
   "cell_type": "code",
   "execution_count": 39,
   "metadata": {},
   "outputs": [
    {
     "name": "stdout",
     "output_type": "stream",
     "text": [
      "root\n",
      " |-- DEST_COUNTRY_NAME: string (nullable = true)\n",
      " |-- ORIGIN_COUNTRY_NAME: string (nullable = true)\n",
      " |-- count: integer (nullable = true)\n",
      "\n"
     ]
    }
   ],
   "source": [
    "df_csv.printSchema()"
   ]
  },
  {
   "cell_type": "code",
   "execution_count": 40,
   "metadata": {},
   "outputs": [
    {
     "data": {
      "text/plain": [
       "DataFrame[number: bigint]"
      ]
     },
     "execution_count": 40,
     "metadata": {},
     "output_type": "execute_result"
    }
   ],
   "source": [
    "df_range = spark.range(100).toDF(\"number\")\n",
    "df_range_v2 = df_range.sort(\"number\")\n",
    "df_range_v3 = df_range_v2.where(\"number < 50\")\n",
    "df_range"
   ]
  },
  {
   "cell_type": "code",
   "execution_count": 41,
   "metadata": {},
   "outputs": [
    {
     "name": "stdout",
     "output_type": "stream",
     "text": [
      "== Physical Plan ==\n",
      "*Sort [number#344L ASC NULLS FIRST], true, 0\n",
      "+- Exchange rangepartitioning(number#344L ASC NULLS FIRST, 200)\n",
      "   +- *Project [id#341L AS number#344L]\n",
      "      +- *Filter (id#341L < 50)\n",
      "         +- *Range (0, 100, step=1, splits=Some(1))\n"
     ]
    }
   ],
   "source": [
    "df_range_v3.explain()"
   ]
  },
  {
   "cell_type": "code",
   "execution_count": 20,
   "metadata": {},
   "outputs": [
    {
     "data": {
      "text/plain": [
       "[('DEST_COUNTRY_NAME', 'string'),\n",
       " ('ORIGIN_COUNTRY_NAME', 'string'),\n",
       " ('count', 'int')]"
      ]
     },
     "execution_count": 20,
     "metadata": {},
     "output_type": "execute_result"
    }
   ],
   "source": [
    "df_csv = spark.read.csv(\"../data/2015-summary.csv\", header = True, sep = ',', inferSchema='true')\n",
    "df_csv.dtypes"
   ]
  },
  {
   "cell_type": "code",
   "execution_count": 21,
   "metadata": {
    "scrolled": true
   },
   "outputs": [
    {
     "name": "stdout",
     "output_type": "stream",
     "text": [
      "+--------------------+-------------------+-----+\n",
      "|   DEST_COUNTRY_NAME|ORIGIN_COUNTRY_NAME|count|\n",
      "+--------------------+-------------------+-----+\n",
      "|       United States|            Romania|   15|\n",
      "|       United States|            Croatia|    1|\n",
      "|       United States|            Ireland|  344|\n",
      "|               Egypt|      United States|   15|\n",
      "|       United States|              India|   62|\n",
      "|       United States|          Singapore|    1|\n",
      "|       United States|            Grenada|   62|\n",
      "|          Costa Rica|      United States|  588|\n",
      "|             Senegal|      United States|   40|\n",
      "|             Moldova|      United States|    1|\n",
      "|       United States|       Sint Maarten|  325|\n",
      "|       United States|   Marshall Islands|   39|\n",
      "|              Guyana|      United States|   64|\n",
      "|               Malta|      United States|    1|\n",
      "|            Anguilla|      United States|   41|\n",
      "|             Bolivia|      United States|   30|\n",
      "|       United States|           Paraguay|    6|\n",
      "|             Algeria|      United States|    4|\n",
      "|Turks and Caicos ...|      United States|  230|\n",
      "|       United States|          Gibraltar|    1|\n",
      "+--------------------+-------------------+-----+\n",
      "only showing top 20 rows\n",
      "\n"
     ]
    }
   ],
   "source": [
    "df_csv.show()"
   ]
  },
  {
   "cell_type": "markdown",
   "metadata": {},
   "source": [
    "## Clausula SELECT"
   ]
  },
  {
   "cell_type": "code",
   "execution_count": 56,
   "metadata": {
    "scrolled": true
   },
   "outputs": [
    {
     "name": "stdout",
     "output_type": "stream",
     "text": [
      "+-------------------------------------------------+\n",
      "|concat(DEST_COUNTRY_NAME, -, ORIGIN_COUNTRY_NAME)|\n",
      "+-------------------------------------------------+\n",
      "|                             United States-Rom...|\n",
      "|                             United States-Cro...|\n",
      "|                             United States-Ire...|\n",
      "|                              Egypt-United States|\n",
      "|                              United States-India|\n",
      "|                             United States-Sin...|\n",
      "|                             United States-Gre...|\n",
      "|                             Costa Rica-United...|\n",
      "|                             Senegal-United St...|\n",
      "|                             Moldova-United St...|\n",
      "|                             United States-Sin...|\n",
      "|                             United States-Mar...|\n",
      "|                             Guyana-United States|\n",
      "|                              Malta-United States|\n",
      "|                             Anguilla-United S...|\n",
      "|                             Bolivia-United St...|\n",
      "|                             United States-Par...|\n",
      "|                             Algeria-United St...|\n",
      "|                             Turks and Caicos ...|\n",
      "|                             United States-Gib...|\n",
      "+-------------------------------------------------+\n",
      "only showing top 20 rows\n",
      "\n"
     ]
    }
   ],
   "source": [
    "df_csv.select(concat(df_csv[\"DEST_COUNTRY_NAME\"],f.lit(\"-\"),df_csv[\"ORIGIN_COUNTRY_NAME\"])).show()"
   ]
  },
  {
   "cell_type": "code",
   "execution_count": 66,
   "metadata": {},
   "outputs": [
    {
     "name": "stdout",
     "output_type": "stream",
     "text": [
      "+--------------------+-----+\n",
      "|   DEST_COUNTRY_NAME|count|\n",
      "+--------------------+-----+\n",
      "|       United States|   15|\n",
      "|       United States|    1|\n",
      "|       United States|  344|\n",
      "|               Egypt|   15|\n",
      "|       United States|   62|\n",
      "|       United States|    1|\n",
      "|       United States|   62|\n",
      "|          Costa Rica|  588|\n",
      "|             Senegal|   40|\n",
      "|             Moldova|    1|\n",
      "|       United States|  325|\n",
      "|       United States|   39|\n",
      "|              Guyana|   64|\n",
      "|               Malta|    1|\n",
      "|            Anguilla|   41|\n",
      "|             Bolivia|   30|\n",
      "|       United States|    6|\n",
      "|             Algeria|    4|\n",
      "|Turks and Caicos ...|  230|\n",
      "|       United States|    1|\n",
      "+--------------------+-----+\n",
      "only showing top 20 rows\n",
      "\n"
     ]
    }
   ],
   "source": [
    "df_csv.select(\"DEST_COUNTRY_NAME\",\"count\").show()"
   ]
  },
  {
   "cell_type": "code",
   "execution_count": 73,
   "metadata": {},
   "outputs": [
    {
     "name": "stdout",
     "output_type": "stream",
     "text": [
      "+--------------------+------+\n",
      "|   DEST_COUNTRY_NAME|cuenta|\n",
      "+--------------------+------+\n",
      "|       United States|    15|\n",
      "|       United States|     1|\n",
      "|       United States|   344|\n",
      "|               Egypt|    15|\n",
      "|       United States|    62|\n",
      "|       United States|     1|\n",
      "|       United States|    62|\n",
      "|          Costa Rica|   588|\n",
      "|             Senegal|    40|\n",
      "|             Moldova|     1|\n",
      "|       United States|   325|\n",
      "|       United States|    39|\n",
      "|              Guyana|    64|\n",
      "|               Malta|     1|\n",
      "|            Anguilla|    41|\n",
      "|             Bolivia|    30|\n",
      "|       United States|     6|\n",
      "|             Algeria|     4|\n",
      "|Turks and Caicos ...|   230|\n",
      "|       United States|     1|\n",
      "+--------------------+------+\n",
      "only showing top 20 rows\n",
      "\n"
     ]
    }
   ],
   "source": [
    "df_csv.select(\"DEST_COUNTRY_NAME\",df_csv[\"count\"].alias(\"cuenta\")).show()"
   ]
  },
  {
   "cell_type": "code",
   "execution_count": 75,
   "metadata": {},
   "outputs": [
    {
     "name": "stdout",
     "output_type": "stream",
     "text": [
      "+-------------------+-----------+\n",
      "|ORIGIN_COUNTRY_NAME|(count + 1)|\n",
      "+-------------------+-----------+\n",
      "|            Romania|         16|\n",
      "|            Croatia|          2|\n",
      "|            Ireland|        345|\n",
      "|      United States|         16|\n",
      "|              India|         63|\n",
      "|          Singapore|          2|\n",
      "|            Grenada|         63|\n",
      "|      United States|        589|\n",
      "|      United States|         41|\n",
      "|      United States|          2|\n",
      "|       Sint Maarten|        326|\n",
      "|   Marshall Islands|         40|\n",
      "|      United States|         65|\n",
      "|      United States|          2|\n",
      "|      United States|         42|\n",
      "|      United States|         31|\n",
      "|           Paraguay|          7|\n",
      "|      United States|          5|\n",
      "|      United States|        231|\n",
      "|          Gibraltar|          2|\n",
      "+-------------------+-----------+\n",
      "only showing top 20 rows\n",
      "\n"
     ]
    }
   ],
   "source": [
    "df_csv.select(\"ORIGIN_COUNTRY_NAME\", df_csv[\"count\"] + 1).show()"
   ]
  },
  {
   "cell_type": "code",
   "execution_count": 76,
   "metadata": {},
   "outputs": [
    {
     "name": "stdout",
     "output_type": "stream",
     "text": [
      "+-------------------+------+\n",
      "|ORIGIN_COUNTRY_NAME|cuenta|\n",
      "+-------------------+------+\n",
      "|            Romania|    16|\n",
      "|            Croatia|     2|\n",
      "|            Ireland|   345|\n",
      "|      United States|    16|\n",
      "|              India|    63|\n",
      "|          Singapore|     2|\n",
      "|            Grenada|    63|\n",
      "|      United States|   589|\n",
      "|      United States|    41|\n",
      "|      United States|     2|\n",
      "|       Sint Maarten|   326|\n",
      "|   Marshall Islands|    40|\n",
      "|      United States|    65|\n",
      "|      United States|     2|\n",
      "|      United States|    42|\n",
      "|      United States|    31|\n",
      "|           Paraguay|     7|\n",
      "|      United States|     5|\n",
      "|      United States|   231|\n",
      "|          Gibraltar|     2|\n",
      "+-------------------+------+\n",
      "only showing top 20 rows\n",
      "\n"
     ]
    }
   ],
   "source": [
    "df_csv.select(\"ORIGIN_COUNTRY_NAME\", (df_csv[\"count\"] + 1).alias(\"cuenta\")).show()"
   ]
  },
  {
   "cell_type": "code",
   "execution_count": 45,
   "metadata": {},
   "outputs": [
    {
     "name": "stdout",
     "output_type": "stream",
     "text": [
      "+-------------------+-----+------+\n",
      "|ORIGIN_COUNTRY_NAME|count|cuenta|\n",
      "+-------------------+-----+------+\n",
      "|            Romania|   15| false|\n",
      "|            Croatia|    1| false|\n",
      "|            Ireland|  344|  true|\n",
      "|      United States|   15| false|\n",
      "|              India|   62|  true|\n",
      "+-------------------+-----+------+\n",
      "only showing top 5 rows\n",
      "\n"
     ]
    }
   ],
   "source": [
    "df_csv.select(\"ORIGIN_COUNTRY_NAME\", \"count\", (df_csv[\"count\"] > 50).alias(\"cuenta\")).show(5)"
   ]
  },
  {
   "cell_type": "markdown",
   "metadata": {},
   "source": [
    "## Clausula Filter - Where"
   ]
  },
  {
   "cell_type": "code",
   "execution_count": 84,
   "metadata": {},
   "outputs": [
    {
     "name": "stdout",
     "output_type": "stream",
     "text": [
      "+-----------------+-------------------+-----+\n",
      "|DEST_COUNTRY_NAME|ORIGIN_COUNTRY_NAME|count|\n",
      "+-----------------+-------------------+-----+\n",
      "|    United States|            Ireland|  344|\n",
      "|    United States|              India|   62|\n",
      "|    United States|            Grenada|   62|\n",
      "|       Costa Rica|      United States|  588|\n",
      "|    United States|       Sint Maarten|  325|\n",
      "+-----------------+-------------------+-----+\n",
      "only showing top 5 rows\n",
      "\n"
     ]
    }
   ],
   "source": [
    "df_csv.filter(df_csv[\"count\"] > 50).show(5)"
   ]
  },
  {
   "cell_type": "code",
   "execution_count": 85,
   "metadata": {},
   "outputs": [
    {
     "name": "stdout",
     "output_type": "stream",
     "text": [
      "+-----------------+-------------------+-----+\n",
      "|DEST_COUNTRY_NAME|ORIGIN_COUNTRY_NAME|count|\n",
      "+-----------------+-------------------+-----+\n",
      "|    United States|              India|   62|\n",
      "|    United States|            Grenada|   62|\n",
      "|          Austria|      United States|   62|\n",
      "+-----------------+-------------------+-----+\n",
      "\n"
     ]
    }
   ],
   "source": [
    "df_csv.filter(df_csv[\"count\"] == 62).show(5)"
   ]
  },
  {
   "cell_type": "code",
   "execution_count": 22,
   "metadata": {
    "scrolled": true
   },
   "outputs": [
    {
     "name": "stdout",
     "output_type": "stream",
     "text": [
      "+--------------------+--------------------+-----+\n",
      "|   DEST_COUNTRY_NAME| ORIGIN_COUNTRY_NAME|count|\n",
      "+--------------------+--------------------+-----+\n",
      "|       United States|               India|   62|\n",
      "|       United States|             Grenada|   62|\n",
      "|              Guyana|       United States|   64|\n",
      "|       United States|Federated States ...|   69|\n",
      "|Federated States ...|       United States|   69|\n",
      "+--------------------+--------------------+-----+\n",
      "only showing top 5 rows\n",
      "\n"
     ]
    }
   ],
   "source": [
    "df_csv.filter(\"count > 50 and count < 100\").show(5)"
   ]
  },
  {
   "cell_type": "code",
   "execution_count": 27,
   "metadata": {
    "scrolled": true
   },
   "outputs": [
    {
     "name": "stdout",
     "output_type": "stream",
     "text": [
      "+-----------------+-------------------+-----+\n",
      "|DEST_COUNTRY_NAME|ORIGIN_COUNTRY_NAME|count|\n",
      "+-----------------+-------------------+-----+\n",
      "|    United States|              India|   62|\n",
      "+-----------------+-------------------+-----+\n",
      "\n"
     ]
    }
   ],
   "source": [
    "df_csv.where((df_csv[\"DEST_COUNTRY_NAME\"]=='United States') & (df_csv.ORIGIN_COUNTRY_NAME=='India')).show()"
   ]
  },
  {
   "cell_type": "code",
   "execution_count": 30,
   "metadata": {
    "scrolled": true
   },
   "outputs": [
    {
     "name": "stdout",
     "output_type": "stream",
     "text": [
      "+-----------------+-------------------+-----+\n",
      "|DEST_COUNTRY_NAME|ORIGIN_COUNTRY_NAME|count|\n",
      "+-----------------+-------------------+-----+\n",
      "|            Egypt|      United States|   15|\n",
      "|    United States|              India|   62|\n",
      "+-----------------+-------------------+-----+\n",
      "\n"
     ]
    }
   ],
   "source": [
    "df_csv.where((df_csv[\"DEST_COUNTRY_NAME\"]=='Egypt') | (df_csv.ORIGIN_COUNTRY_NAME=='India')).show()"
   ]
  },
  {
   "cell_type": "code",
   "execution_count": 31,
   "metadata": {},
   "outputs": [
    {
     "name": "stdout",
     "output_type": "stream",
     "text": [
      "+--------------------+-------------------+-----+\n",
      "|   DEST_COUNTRY_NAME|ORIGIN_COUNTRY_NAME|count|\n",
      "+--------------------+-------------------+-----+\n",
      "|       United States|            Romania|   15|\n",
      "|       United States|            Croatia|    1|\n",
      "|       United States|            Ireland|  344|\n",
      "|               Egypt|      United States|   15|\n",
      "|       United States|          Singapore|    1|\n",
      "|       United States|            Grenada|   62|\n",
      "|          Costa Rica|      United States|  588|\n",
      "|             Senegal|      United States|   40|\n",
      "|             Moldova|      United States|    1|\n",
      "|       United States|       Sint Maarten|  325|\n",
      "|       United States|   Marshall Islands|   39|\n",
      "|              Guyana|      United States|   64|\n",
      "|               Malta|      United States|    1|\n",
      "|            Anguilla|      United States|   41|\n",
      "|             Bolivia|      United States|   30|\n",
      "|       United States|           Paraguay|    6|\n",
      "|             Algeria|      United States|    4|\n",
      "|Turks and Caicos ...|      United States|  230|\n",
      "|       United States|          Gibraltar|    1|\n",
      "|Saint Vincent and...|      United States|    1|\n",
      "+--------------------+-------------------+-----+\n",
      "only showing top 20 rows\n",
      "\n"
     ]
    }
   ],
   "source": [
    "df_csv.where((df_csv[\"DEST_COUNTRY_NAME\"]=='Egypt') | ~(df_csv.ORIGIN_COUNTRY_NAME=='India')).show()"
   ]
  },
  {
   "cell_type": "code",
   "execution_count": 88,
   "metadata": {},
   "outputs": [
    {
     "name": "stdout",
     "output_type": "stream",
     "text": [
      "+-----------------+-------------------+-----+\n",
      "|DEST_COUNTRY_NAME|ORIGIN_COUNTRY_NAME|count|\n",
      "+-----------------+-------------------+-----+\n",
      "|    United States|              India|   62|\n",
      "|    United States|            Grenada|   62|\n",
      "|          Austria|      United States|   62|\n",
      "+-----------------+-------------------+-----+\n",
      "\n"
     ]
    }
   ],
   "source": [
    "df_csv.where(df_csv[\"count\"] == 62).show(5)"
   ]
  },
  {
   "cell_type": "code",
   "execution_count": 90,
   "metadata": {},
   "outputs": [
    {
     "name": "stdout",
     "output_type": "stream",
     "text": [
      "+-----------------+-------------------+-----+\n",
      "|DEST_COUNTRY_NAME|ORIGIN_COUNTRY_NAME|count|\n",
      "+-----------------+-------------------+-----+\n",
      "|    United States|            Ireland|  344|\n",
      "|    United States|              India|   62|\n",
      "|    United States|            Grenada|   62|\n",
      "|       Costa Rica|      United States|  588|\n",
      "|    United States|       Sint Maarten|  325|\n",
      "+-----------------+-------------------+-----+\n",
      "only showing top 5 rows\n",
      "\n"
     ]
    }
   ],
   "source": [
    "df_csv.where(df_csv[\"count\"] > 50).show(5)"
   ]
  },
  {
   "cell_type": "code",
   "execution_count": 57,
   "metadata": {
    "scrolled": false
   },
   "outputs": [
    {
     "name": "stdout",
     "output_type": "stream",
     "text": [
      "+--------------------+--------------------+-----+\n",
      "|   DEST_COUNTRY_NAME| ORIGIN_COUNTRY_NAME|count|\n",
      "+--------------------+--------------------+-----+\n",
      "|       United States|               India|   62|\n",
      "|       United States|             Grenada|   62|\n",
      "|              Guyana|       United States|   64|\n",
      "|       United States|Federated States ...|   69|\n",
      "|Federated States ...|       United States|   69|\n",
      "+--------------------+--------------------+-----+\n",
      "only showing top 5 rows\n",
      "\n"
     ]
    }
   ],
   "source": [
    "df_csv.where(\"count > 50 and count < 100\").show(5)"
   ]
  },
  {
   "cell_type": "markdown",
   "metadata": {},
   "source": [
    "## Group By"
   ]
  },
  {
   "cell_type": "code",
   "execution_count": 58,
   "metadata": {},
   "outputs": [
    {
     "name": "stdout",
     "output_type": "stream",
     "text": [
      "+--------------------+----------+\n",
      "|   DEST_COUNTRY_NAME|sum(count)|\n",
      "+--------------------+----------+\n",
      "|            Anguilla|        41|\n",
      "|              Russia|       176|\n",
      "|            Paraguay|        60|\n",
      "|             Senegal|        40|\n",
      "|              Sweden|       118|\n",
      "|            Kiribati|        26|\n",
      "|              Guyana|        64|\n",
      "|         Philippines|       134|\n",
      "|            Djibouti|         1|\n",
      "|            Malaysia|         2|\n",
      "|           Singapore|         3|\n",
      "|                Fiji|        24|\n",
      "|              Turkey|       138|\n",
      "|                Iraq|         1|\n",
      "|             Germany|      1468|\n",
      "|              Jordan|        44|\n",
      "|               Palau|        30|\n",
      "|Turks and Caicos ...|       230|\n",
      "|              France|       935|\n",
      "|              Greece|        30|\n",
      "+--------------------+----------+\n",
      "only showing top 20 rows\n",
      "\n"
     ]
    }
   ],
   "source": [
    "df_csv.groupBy(\"DEST_COUNTRY_NAME\").sum(\"count\").show()"
   ]
  },
  {
   "cell_type": "code",
   "execution_count": 98,
   "metadata": {},
   "outputs": [
    {
     "name": "stdout",
     "output_type": "stream",
     "text": [
      "+--------------------+----------+\n",
      "| ORIGIN_COUNTRY_NAME|sum(count)|\n",
      "+--------------------+----------+\n",
      "|            Paraguay|         6|\n",
      "|              Russia|       161|\n",
      "|            Anguilla|        38|\n",
      "|             Senegal|        42|\n",
      "|              Sweden|       119|\n",
      "|            Kiribati|        35|\n",
      "|              Guyana|        63|\n",
      "|         Philippines|       126|\n",
      "|           Singapore|         1|\n",
      "|            Malaysia|         3|\n",
      "|                Fiji|        25|\n",
      "|              Turkey|       129|\n",
      "|             Germany|      1336|\n",
      "|              Jordan|        44|\n",
      "|               Palau|        31|\n",
      "|Turks and Caicos ...|       236|\n",
      "|              France|       952|\n",
      "|              Greece|        23|\n",
      "|British Virgin Is...|        80|\n",
      "|              Taiwan|       235|\n",
      "+--------------------+----------+\n",
      "only showing top 20 rows\n",
      "\n"
     ]
    }
   ],
   "source": [
    "df_csv.groupBy(\"ORIGIN_COUNTRY_NAME\").sum(\"count\").show()"
   ]
  },
  {
   "cell_type": "code",
   "execution_count": 104,
   "metadata": {},
   "outputs": [
    {
     "name": "stdout",
     "output_type": "stream",
     "text": [
      "+--------------------+----------+\n",
      "| ORIGIN_COUNTRY_NAME|avg(count)|\n",
      "+--------------------+----------+\n",
      "|            Paraguay|       6.0|\n",
      "|              Russia|     161.0|\n",
      "|            Anguilla|      38.0|\n",
      "|             Senegal|      42.0|\n",
      "|              Sweden|     119.0|\n",
      "|            Kiribati|      35.0|\n",
      "|              Guyana|      63.0|\n",
      "|         Philippines|     126.0|\n",
      "|           Singapore|       1.0|\n",
      "|            Malaysia|       3.0|\n",
      "|                Fiji|      25.0|\n",
      "|              Turkey|     129.0|\n",
      "|             Germany|    1336.0|\n",
      "|              Jordan|      44.0|\n",
      "|               Palau|      31.0|\n",
      "|Turks and Caicos ...|     236.0|\n",
      "|              France|     952.0|\n",
      "|              Greece|      23.0|\n",
      "|British Virgin Is...|      80.0|\n",
      "|              Taiwan|     235.0|\n",
      "+--------------------+----------+\n",
      "only showing top 20 rows\n",
      "\n"
     ]
    }
   ],
   "source": [
    "df_csv.groupBy(\"ORIGIN_COUNTRY_NAME\").avg(\"count\").show()"
   ]
  },
  {
   "cell_type": "code",
   "execution_count": 65,
   "metadata": {},
   "outputs": [
    {
     "name": "stdout",
     "output_type": "stream",
     "text": [
      "+--------------------+------+------+\n",
      "| ORIGIN_COUNTRY_NAME|Minimo|Maximo|\n",
      "+--------------------+------+------+\n",
      "|            Paraguay|     6|     6|\n",
      "|              Russia|   161|   161|\n",
      "|            Anguilla|    38|    38|\n",
      "|             Senegal|    42|    42|\n",
      "|              Sweden|   119|   119|\n",
      "|            Kiribati|    35|    35|\n",
      "|              Guyana|    63|    63|\n",
      "|         Philippines|   126|   126|\n",
      "|           Singapore|     1|     1|\n",
      "|            Malaysia|     3|     3|\n",
      "|                Fiji|    25|    25|\n",
      "|              Turkey|   129|   129|\n",
      "|             Germany|  1336|  1336|\n",
      "|              Jordan|    44|    44|\n",
      "|               Palau|    31|    31|\n",
      "|Turks and Caicos ...|   236|   236|\n",
      "|              France|   952|   952|\n",
      "|              Greece|    23|    23|\n",
      "|British Virgin Is...|    80|    80|\n",
      "|              Taiwan|   235|   235|\n",
      "+--------------------+------+------+\n",
      "only showing top 20 rows\n",
      "\n"
     ]
    }
   ],
   "source": [
    "df_csv.groupBy(\"ORIGIN_COUNTRY_NAME\").agg(f.min(\"count\").alias(\"Minimo\"),f.max(\"count\").alias(\"Maximo\")).show()"
   ]
  },
  {
   "cell_type": "code",
   "execution_count": 112,
   "metadata": {},
   "outputs": [
    {
     "name": "stdout",
     "output_type": "stream",
     "text": [
      "+--------------------+----------+\n",
      "| ORIGIN_COUNTRY_NAME|max(count)|\n",
      "+--------------------+----------+\n",
      "|            Paraguay|         6|\n",
      "|              Russia|       161|\n",
      "|            Anguilla|        38|\n",
      "|             Senegal|        42|\n",
      "|              Sweden|       119|\n",
      "|            Kiribati|        35|\n",
      "|              Guyana|        63|\n",
      "|         Philippines|       126|\n",
      "|           Singapore|         1|\n",
      "|            Malaysia|         3|\n",
      "|                Fiji|        25|\n",
      "|              Turkey|       129|\n",
      "|             Germany|      1336|\n",
      "|              Jordan|        44|\n",
      "|               Palau|        31|\n",
      "|Turks and Caicos ...|       236|\n",
      "|              France|       952|\n",
      "|              Greece|        23|\n",
      "|British Virgin Is...|        80|\n",
      "|              Taiwan|       235|\n",
      "+--------------------+----------+\n",
      "only showing top 20 rows\n",
      "\n"
     ]
    }
   ],
   "source": [
    "df_csv.groupBy(\"ORIGIN_COUNTRY_NAME\").max(\"count\").show()"
   ]
  },
  {
   "cell_type": "code",
   "execution_count": 119,
   "metadata": {},
   "outputs": [
    {
     "name": "stdout",
     "output_type": "stream",
     "text": [
      "+-----------------+-----+\n",
      "|DEST_COUNTRY_NAME|count|\n",
      "+-----------------+-----+\n",
      "|    United States|    2|\n",
      "+-----------------+-----+\n",
      "\n"
     ]
    }
   ],
   "source": [
    "df_csv_2 = df_csv.where(\"ORIGIN_COUNTRY_NAME in ('Philippines','Malaysia')\")\n",
    "df_csv_2.groupBy(\"DEST_COUNTRY_NAME\").count().show()"
   ]
  },
  {
   "cell_type": "code",
   "execution_count": 115,
   "metadata": {},
   "outputs": [
    {
     "name": "stdout",
     "output_type": "stream",
     "text": [
      "+-----------------+-------------------+-----+\n",
      "|DEST_COUNTRY_NAME|ORIGIN_COUNTRY_NAME|count|\n",
      "+-----------------+-------------------+-----+\n",
      "|    United States|           Malaysia|    3|\n",
      "|    United States|        Philippines|  126|\n",
      "+-----------------+-------------------+-----+\n",
      "\n"
     ]
    }
   ],
   "source": [
    "df_csv_2 = df_csv.where(\"ORIGIN_COUNTRY_NAME in ('Philippines','Malaysia')\").show()\n",
    "df_csv_2 = df_csv.where(\"ORIGIN_COUNTRY_NAME in ('Philippines','Malaysia')\")"
   ]
  },
  {
   "cell_type": "markdown",
   "metadata": {},
   "source": [
    "## Clausula Sort"
   ]
  },
  {
   "cell_type": "code",
   "execution_count": 120,
   "metadata": {},
   "outputs": [
    {
     "name": "stdout",
     "output_type": "stream",
     "text": [
      "+--------------------+-------------------+-----+\n",
      "|   DEST_COUNTRY_NAME|ORIGIN_COUNTRY_NAME|count|\n",
      "+--------------------+-------------------+-----+\n",
      "|       United States|            Romania|   15|\n",
      "|       United States|            Croatia|    1|\n",
      "|       United States|            Ireland|  344|\n",
      "|               Egypt|      United States|   15|\n",
      "|       United States|              India|   62|\n",
      "|       United States|          Singapore|    1|\n",
      "|       United States|            Grenada|   62|\n",
      "|          Costa Rica|      United States|  588|\n",
      "|             Senegal|      United States|   40|\n",
      "|             Moldova|      United States|    1|\n",
      "|       United States|       Sint Maarten|  325|\n",
      "|       United States|   Marshall Islands|   39|\n",
      "|              Guyana|      United States|   64|\n",
      "|               Malta|      United States|    1|\n",
      "|            Anguilla|      United States|   41|\n",
      "|             Bolivia|      United States|   30|\n",
      "|       United States|           Paraguay|    6|\n",
      "|             Algeria|      United States|    4|\n",
      "|Turks and Caicos ...|      United States|  230|\n",
      "|       United States|          Gibraltar|    1|\n",
      "+--------------------+-------------------+-----+\n",
      "only showing top 20 rows\n",
      "\n"
     ]
    }
   ],
   "source": [
    "df_csv.show()"
   ]
  },
  {
   "cell_type": "code",
   "execution_count": 121,
   "metadata": {},
   "outputs": [
    {
     "name": "stdout",
     "output_type": "stream",
     "text": [
      "+--------------------+-------------------+-----+\n",
      "|   DEST_COUNTRY_NAME|ORIGIN_COUNTRY_NAME|count|\n",
      "+--------------------+-------------------+-----+\n",
      "|             Algeria|      United States|    4|\n",
      "|              Angola|      United States|   15|\n",
      "|            Anguilla|      United States|   41|\n",
      "| Antigua and Barbuda|      United States|  126|\n",
      "|           Argentina|      United States|  180|\n",
      "|               Aruba|      United States|  346|\n",
      "|           Australia|      United States|  329|\n",
      "|             Austria|      United States|   62|\n",
      "|          Azerbaijan|      United States|   21|\n",
      "|             Bahrain|      United States|   19|\n",
      "|            Barbados|      United States|  154|\n",
      "|             Belgium|      United States|  259|\n",
      "|              Belize|      United States|  188|\n",
      "|             Bermuda|      United States|  183|\n",
      "|             Bolivia|      United States|   30|\n",
      "|Bonaire, Sint Eus...|      United States|   58|\n",
      "|              Brazil|      United States|  853|\n",
      "|British Virgin Is...|      United States|  107|\n",
      "|            Bulgaria|      United States|    3|\n",
      "|        Burkina Faso|      United States|    1|\n",
      "+--------------------+-------------------+-----+\n",
      "only showing top 20 rows\n",
      "\n"
     ]
    }
   ],
   "source": [
    "df_csv.sort(df_csv[\"DEST_COUNTRY_NAME\"]).show()"
   ]
  },
  {
   "cell_type": "code",
   "execution_count": 122,
   "metadata": {},
   "outputs": [
    {
     "name": "stdout",
     "output_type": "stream",
     "text": [
      "+-----------------+-------------------+-----+\n",
      "|DEST_COUNTRY_NAME|ORIGIN_COUNTRY_NAME|count|\n",
      "+-----------------+-------------------+-----+\n",
      "|           Zambia|      United States|    1|\n",
      "|        Venezuela|      United States|  290|\n",
      "|          Uruguay|      United States|   43|\n",
      "|    United States|            Vietnam|    2|\n",
      "|    United States|           Portugal|  134|\n",
      "|    United States|             Cyprus|    1|\n",
      "|    United States|             Russia|  161|\n",
      "|    United States|          Singapore|    1|\n",
      "|    United States|   Marshall Islands|   39|\n",
      "|    United States|         Costa Rica|  608|\n",
      "|    United States|           Malaysia|    3|\n",
      "|    United States|          Guatemala|  318|\n",
      "|    United States|              Samoa|   25|\n",
      "|    United States|           Suriname|   34|\n",
      "|    United States|         Cape Verde|   14|\n",
      "|    United States|            Jamaica|  712|\n",
      "|    United States|              China|  920|\n",
      "|    United States|              India|   62|\n",
      "|    United States|            Morocco|   19|\n",
      "|    United States|        Netherlands|  660|\n",
      "+-----------------+-------------------+-----+\n",
      "only showing top 20 rows\n",
      "\n"
     ]
    }
   ],
   "source": [
    "df_csv.sort(df_csv[\"DEST_COUNTRY_NAME\"].desc()).show()"
   ]
  },
  {
   "cell_type": "code",
   "execution_count": 123,
   "metadata": {},
   "outputs": [
    {
     "name": "stdout",
     "output_type": "stream",
     "text": [
      "+-----------------+-------------------+-----+\n",
      "|DEST_COUNTRY_NAME|ORIGIN_COUNTRY_NAME|count|\n",
      "+-----------------+-------------------+-----+\n",
      "|           Zambia|      United States|    1|\n",
      "|        Venezuela|      United States|  290|\n",
      "|          Uruguay|      United States|   43|\n",
      "|    United States|          Gibraltar|    1|\n",
      "|    United States|            Bahrain|    1|\n",
      "|    United States|            Croatia|    1|\n",
      "|    United States|          Singapore|    1|\n",
      "|    United States|           Bulgaria|    1|\n",
      "|    United States|   Papua New Guinea|    1|\n",
      "|    United States|         Montenegro|    1|\n",
      "|    United States|            Namibia|    1|\n",
      "|    United States|            Georgia|    1|\n",
      "|    United States|            Estonia|    1|\n",
      "|    United States|             Cyprus|    1|\n",
      "|    United States|          Lithuania|    1|\n",
      "|    United States|              Malta|    2|\n",
      "|    United States|            Vietnam|    2|\n",
      "|    United States|          Indonesia|    2|\n",
      "|    United States|            Liberia|    2|\n",
      "|    United States|           Malaysia|    3|\n",
      "+-----------------+-------------------+-----+\n",
      "only showing top 20 rows\n",
      "\n"
     ]
    }
   ],
   "source": [
    "df_csv.sort(df_csv[\"DEST_COUNTRY_NAME\"].desc(), df_csv[\"count\"]).show()"
   ]
  },
  {
   "cell_type": "code",
   "execution_count": 125,
   "metadata": {},
   "outputs": [
    {
     "name": "stdout",
     "output_type": "stream",
     "text": [
      "+------------------+-------------------+------+\n",
      "| DEST_COUNTRY_NAME|ORIGIN_COUNTRY_NAME| count|\n",
      "+------------------+-------------------+------+\n",
      "|     United States|      United States|370002|\n",
      "|     United States|             Canada|  8483|\n",
      "|            Canada|      United States|  8399|\n",
      "|     United States|             Mexico|  7187|\n",
      "|            Mexico|      United States|  7140|\n",
      "|    United Kingdom|      United States|  2025|\n",
      "|     United States|     United Kingdom|  1970|\n",
      "|             Japan|      United States|  1548|\n",
      "|     United States|              Japan|  1496|\n",
      "|           Germany|      United States|  1468|\n",
      "|     United States| Dominican Republic|  1420|\n",
      "|Dominican Republic|      United States|  1353|\n",
      "|     United States|            Germany|  1336|\n",
      "|       South Korea|      United States|  1048|\n",
      "|     United States|        The Bahamas|   986|\n",
      "|       The Bahamas|      United States|   955|\n",
      "|     United States|             France|   952|\n",
      "|            France|      United States|   935|\n",
      "|     United States|              China|   920|\n",
      "|          Colombia|      United States|   873|\n",
      "+------------------+-------------------+------+\n",
      "only showing top 20 rows\n",
      "\n"
     ]
    }
   ],
   "source": [
    "df_csv.sort(\"count\", ascending = False).show()"
   ]
  },
  {
   "cell_type": "code",
   "execution_count": 128,
   "metadata": {},
   "outputs": [
    {
     "name": "stdout",
     "output_type": "stream",
     "text": [
      "+-----------------+-------------------+-----+\n",
      "|DEST_COUNTRY_NAME|ORIGIN_COUNTRY_NAME|count|\n",
      "+-----------------+-------------------+-----+\n",
      "|           Zambia|      United States|    1|\n",
      "|        Venezuela|      United States|  290|\n",
      "|          Uruguay|      United States|   43|\n",
      "|    United States|          Gibraltar|    1|\n",
      "|    United States|            Bahrain|    1|\n",
      "|    United States|            Croatia|    1|\n",
      "|    United States|          Singapore|    1|\n",
      "|    United States|           Bulgaria|    1|\n",
      "|    United States|   Papua New Guinea|    1|\n",
      "|    United States|         Montenegro|    1|\n",
      "|    United States|            Namibia|    1|\n",
      "|    United States|            Georgia|    1|\n",
      "|    United States|            Estonia|    1|\n",
      "|    United States|             Cyprus|    1|\n",
      "|    United States|          Lithuania|    1|\n",
      "|    United States|              Malta|    2|\n",
      "|    United States|            Vietnam|    2|\n",
      "|    United States|          Indonesia|    2|\n",
      "|    United States|            Liberia|    2|\n",
      "|    United States|           Malaysia|    3|\n",
      "+-----------------+-------------------+-----+\n",
      "only showing top 20 rows\n",
      "\n"
     ]
    }
   ],
   "source": [
    "df_csv.sort([\"DEST_COUNTRY_NAME\",\"count\"], ascending = [0,1]).show()"
   ]
  },
  {
   "cell_type": "markdown",
   "metadata": {},
   "source": [
    "## Funciones Extras"
   ]
  },
  {
   "cell_type": "code",
   "execution_count": 131,
   "metadata": {},
   "outputs": [],
   "source": [
    "from pyspark.sql import functions as F"
   ]
  },
  {
   "cell_type": "markdown",
   "metadata": {},
   "source": [
    "### Clausula When"
   ]
  },
  {
   "cell_type": "code",
   "execution_count": 138,
   "metadata": {
    "scrolled": true
   },
   "outputs": [
    {
     "name": "stdout",
     "output_type": "stream",
     "text": [
      "+--------------------+---------------------------------------------------------------+\n",
      "|   DEST_COUNTRY_NAME|CASE WHEN (count < 25) THEN Menores a 25 ELSE Mayores a 100 END|\n",
      "+--------------------+---------------------------------------------------------------+\n",
      "|       United States|                                                   Menores a 25|\n",
      "|       United States|                                                   Menores a 25|\n",
      "|       United States|                                                  Mayores a 100|\n",
      "|               Egypt|                                                   Menores a 25|\n",
      "|       United States|                                                  Mayores a 100|\n",
      "|       United States|                                                   Menores a 25|\n",
      "|       United States|                                                  Mayores a 100|\n",
      "|          Costa Rica|                                                  Mayores a 100|\n",
      "|             Senegal|                                                  Mayores a 100|\n",
      "|             Moldova|                                                   Menores a 25|\n",
      "|       United States|                                                  Mayores a 100|\n",
      "|       United States|                                                  Mayores a 100|\n",
      "|              Guyana|                                                  Mayores a 100|\n",
      "|               Malta|                                                   Menores a 25|\n",
      "|            Anguilla|                                                  Mayores a 100|\n",
      "|             Bolivia|                                                  Mayores a 100|\n",
      "|       United States|                                                   Menores a 25|\n",
      "|             Algeria|                                                   Menores a 25|\n",
      "|Turks and Caicos ...|                                                  Mayores a 100|\n",
      "|       United States|                                                   Menores a 25|\n",
      "+--------------------+---------------------------------------------------------------+\n",
      "only showing top 20 rows\n",
      "\n"
     ]
    }
   ],
   "source": [
    "df_csv.select(df_csv[\"DEST_COUNTRY_NAME\"], F.when(df_csv[\"count\"] < 25, \"Menores a 25\").otherwise(\"Mayores a 100\")).show()"
   ]
  },
  {
   "cell_type": "code",
   "execution_count": 140,
   "metadata": {},
   "outputs": [
    {
     "name": "stdout",
     "output_type": "stream",
     "text": [
      "+--------------------+---------------------------------------------------------------------------------------------------+\n",
      "|   DEST_COUNTRY_NAME|CASE WHEN (count < 25) THEN Menores a 25 WHEN (count < 50) THEN Menores a 50 ELSE Mayores a 100 END|\n",
      "+--------------------+---------------------------------------------------------------------------------------------------+\n",
      "|       United States|                                                                                       Menores a 25|\n",
      "|       United States|                                                                                       Menores a 25|\n",
      "|       United States|                                                                                      Mayores a 100|\n",
      "|               Egypt|                                                                                       Menores a 25|\n",
      "|       United States|                                                                                      Mayores a 100|\n",
      "|       United States|                                                                                       Menores a 25|\n",
      "|       United States|                                                                                      Mayores a 100|\n",
      "|          Costa Rica|                                                                                      Mayores a 100|\n",
      "|             Senegal|                                                                                       Menores a 50|\n",
      "|             Moldova|                                                                                       Menores a 25|\n",
      "|       United States|                                                                                      Mayores a 100|\n",
      "|       United States|                                                                                       Menores a 50|\n",
      "|              Guyana|                                                                                      Mayores a 100|\n",
      "|               Malta|                                                                                       Menores a 25|\n",
      "|            Anguilla|                                                                                       Menores a 50|\n",
      "|             Bolivia|                                                                                       Menores a 50|\n",
      "|       United States|                                                                                       Menores a 25|\n",
      "|             Algeria|                                                                                       Menores a 25|\n",
      "|Turks and Caicos ...|                                                                                      Mayores a 100|\n",
      "|       United States|                                                                                       Menores a 25|\n",
      "+--------------------+---------------------------------------------------------------------------------------------------+\n",
      "only showing top 20 rows\n",
      "\n"
     ]
    }
   ],
   "source": [
    "df_csv.select(df_csv[\"DEST_COUNTRY_NAME\"], F.when(df_csv[\"count\"] < 25, \"Menores a 25\").when(df_csv[\"count\"] < 50, \"Menores a 50\").otherwise(\"Mayores a 100\")).show()"
   ]
  },
  {
   "cell_type": "markdown",
   "metadata": {},
   "source": [
    "### Clausula Like"
   ]
  },
  {
   "cell_type": "code",
   "execution_count": 49,
   "metadata": {},
   "outputs": [
    {
     "name": "stdout",
     "output_type": "stream",
     "text": [
      "+--------------------+----------------------------+\n",
      "|   DEST_COUNTRY_NAME|DEST_COUNTRY_NAME LIKE %Egy%|\n",
      "+--------------------+----------------------------+\n",
      "|       United States|                       false|\n",
      "|       United States|                       false|\n",
      "|       United States|                       false|\n",
      "|               Egypt|                        true|\n",
      "|       United States|                       false|\n",
      "|       United States|                       false|\n",
      "|       United States|                       false|\n",
      "|          Costa Rica|                       false|\n",
      "|             Senegal|                       false|\n",
      "|             Moldova|                       false|\n",
      "|       United States|                       false|\n",
      "|       United States|                       false|\n",
      "|              Guyana|                       false|\n",
      "|               Malta|                       false|\n",
      "|            Anguilla|                       false|\n",
      "|             Bolivia|                       false|\n",
      "|       United States|                       false|\n",
      "|             Algeria|                       false|\n",
      "|Turks and Caicos ...|                       false|\n",
      "|       United States|                       false|\n",
      "+--------------------+----------------------------+\n",
      "only showing top 20 rows\n",
      "\n"
     ]
    }
   ],
   "source": [
    "df_csv.select(\"DEST_COUNTRY_NAME\", df_csv[\"DEST_COUNTRY_NAME\"].like(\"%Egy%\")).show()"
   ]
  },
  {
   "cell_type": "markdown",
   "metadata": {},
   "source": [
    "### Clausula Startswith - Endswith"
   ]
  },
  {
   "cell_type": "code",
   "execution_count": 149,
   "metadata": {},
   "outputs": [
    {
     "name": "stdout",
     "output_type": "stream",
     "text": [
      "+--------------------+----------------------------------+\n",
      "|   DEST_COUNTRY_NAME|startswith(DEST_COUNTRY_NAME, Uni)|\n",
      "+--------------------+----------------------------------+\n",
      "|       United States|                              true|\n",
      "|       United States|                              true|\n",
      "|       United States|                              true|\n",
      "|               Egypt|                             false|\n",
      "|       United States|                              true|\n",
      "|       United States|                              true|\n",
      "|       United States|                              true|\n",
      "|          Costa Rica|                             false|\n",
      "|             Senegal|                             false|\n",
      "|             Moldova|                             false|\n",
      "|       United States|                              true|\n",
      "|       United States|                              true|\n",
      "|              Guyana|                             false|\n",
      "|               Malta|                             false|\n",
      "|            Anguilla|                             false|\n",
      "|             Bolivia|                             false|\n",
      "|       United States|                              true|\n",
      "|             Algeria|                             false|\n",
      "|Turks and Caicos ...|                             false|\n",
      "|       United States|                              true|\n",
      "+--------------------+----------------------------------+\n",
      "only showing top 20 rows\n",
      "\n"
     ]
    }
   ],
   "source": [
    "df_csv.select(\"DEST_COUNTRY_NAME\", df_csv[\"DEST_COUNTRY_NAME\"].startswith(\"Uni\")).show()"
   ]
  },
  {
   "cell_type": "code",
   "execution_count": 151,
   "metadata": {
    "scrolled": true
   },
   "outputs": [
    {
     "name": "stdout",
     "output_type": "stream",
     "text": [
      "+--------------------+------------------------------+\n",
      "|   DEST_COUNTRY_NAME|endswith(DEST_COUNTRY_NAME, a)|\n",
      "+--------------------+------------------------------+\n",
      "|       United States|                         false|\n",
      "|       United States|                         false|\n",
      "|       United States|                         false|\n",
      "|               Egypt|                         false|\n",
      "|       United States|                         false|\n",
      "|       United States|                         false|\n",
      "|       United States|                         false|\n",
      "|          Costa Rica|                          true|\n",
      "|             Senegal|                         false|\n",
      "|             Moldova|                          true|\n",
      "|       United States|                         false|\n",
      "|       United States|                         false|\n",
      "|              Guyana|                          true|\n",
      "|               Malta|                          true|\n",
      "|            Anguilla|                          true|\n",
      "|             Bolivia|                          true|\n",
      "|       United States|                         false|\n",
      "|             Algeria|                          true|\n",
      "|Turks and Caicos ...|                         false|\n",
      "|       United States|                         false|\n",
      "+--------------------+------------------------------+\n",
      "only showing top 20 rows\n",
      "\n"
     ]
    }
   ],
   "source": [
    "df_csv.select(\"DEST_COUNTRY_NAME\", df_csv[\"DEST_COUNTRY_NAME\"].endswith(\"a\")).show()"
   ]
  },
  {
   "cell_type": "markdown",
   "metadata": {},
   "source": [
    "### Clausula Substrin"
   ]
  },
  {
   "cell_type": "code",
   "execution_count": 50,
   "metadata": {},
   "outputs": [
    {
     "name": "stdout",
     "output_type": "stream",
     "text": [
      "+--------------------+------------+\n",
      "|   DEST_COUNTRY_NAME|Nombre_Corto|\n",
      "+--------------------+------------+\n",
      "|       United States|        nite|\n",
      "|       United States|        nite|\n",
      "|       United States|        nite|\n",
      "|               Egypt|        gypt|\n",
      "|       United States|        nite|\n",
      "|       United States|        nite|\n",
      "|       United States|        nite|\n",
      "|          Costa Rica|        osta|\n",
      "|             Senegal|        eneg|\n",
      "|             Moldova|        oldo|\n",
      "|       United States|        nite|\n",
      "|       United States|        nite|\n",
      "|              Guyana|        uyan|\n",
      "|               Malta|        alta|\n",
      "|            Anguilla|        ngui|\n",
      "|             Bolivia|        oliv|\n",
      "|       United States|        nite|\n",
      "|             Algeria|        lger|\n",
      "|Turks and Caicos ...|        urks|\n",
      "|       United States|        nite|\n",
      "+--------------------+------------+\n",
      "only showing top 20 rows\n",
      "\n"
     ]
    }
   ],
   "source": [
    "df_csv.select(\"DEST_COUNTRY_NAME\", (df_csv[\"DEST_COUNTRY_NAME\"].substr(2,4)).alias(\"Nombre_Corto\")).show()"
   ]
  },
  {
   "cell_type": "markdown",
   "metadata": {},
   "source": [
    "### Clausula Between"
   ]
  },
  {
   "cell_type": "code",
   "execution_count": 157,
   "metadata": {},
   "outputs": [
    {
     "name": "stdout",
     "output_type": "stream",
     "text": [
      "+--------------------+-----+---------------------------------+\n",
      "|   DEST_COUNTRY_NAME|count|((count >= 25) AND (count <= 75))|\n",
      "+--------------------+-----+---------------------------------+\n",
      "|       United States|   15|                            false|\n",
      "|       United States|    1|                            false|\n",
      "|       United States|  344|                            false|\n",
      "|               Egypt|   15|                            false|\n",
      "|       United States|   62|                             true|\n",
      "|       United States|    1|                            false|\n",
      "|       United States|   62|                             true|\n",
      "|          Costa Rica|  588|                            false|\n",
      "|             Senegal|   40|                             true|\n",
      "|             Moldova|    1|                            false|\n",
      "|       United States|  325|                            false|\n",
      "|       United States|   39|                             true|\n",
      "|              Guyana|   64|                             true|\n",
      "|               Malta|    1|                            false|\n",
      "|            Anguilla|   41|                             true|\n",
      "|             Bolivia|   30|                             true|\n",
      "|       United States|    6|                            false|\n",
      "|             Algeria|    4|                            false|\n",
      "|Turks and Caicos ...|  230|                            false|\n",
      "|       United States|    1|                            false|\n",
      "+--------------------+-----+---------------------------------+\n",
      "only showing top 20 rows\n",
      "\n"
     ]
    }
   ],
   "source": [
    "df_csv.select(\"DEST_COUNTRY_NAME\", \"count\", df_csv[\"count\"].between(25,75)).show()"
   ]
  },
  {
   "cell_type": "markdown",
   "metadata": {},
   "source": [
    "### Modificando nombres de columnas"
   ]
  },
  {
   "cell_type": "code",
   "execution_count": 158,
   "metadata": {},
   "outputs": [
    {
     "name": "stdout",
     "output_type": "stream",
     "text": [
      "+--------------------+-------------------+------+\n",
      "|   DEST_COUNTRY_NAME|ORIGIN_COUNTRY_NAME|cuenta|\n",
      "+--------------------+-------------------+------+\n",
      "|       United States|            Romania|    15|\n",
      "|       United States|            Croatia|     1|\n",
      "|       United States|            Ireland|   344|\n",
      "|               Egypt|      United States|    15|\n",
      "|       United States|              India|    62|\n",
      "|       United States|          Singapore|     1|\n",
      "|       United States|            Grenada|    62|\n",
      "|          Costa Rica|      United States|   588|\n",
      "|             Senegal|      United States|    40|\n",
      "|             Moldova|      United States|     1|\n",
      "|       United States|       Sint Maarten|   325|\n",
      "|       United States|   Marshall Islands|    39|\n",
      "|              Guyana|      United States|    64|\n",
      "|               Malta|      United States|     1|\n",
      "|            Anguilla|      United States|    41|\n",
      "|             Bolivia|      United States|    30|\n",
      "|       United States|           Paraguay|     6|\n",
      "|             Algeria|      United States|     4|\n",
      "|Turks and Caicos ...|      United States|   230|\n",
      "|       United States|          Gibraltar|     1|\n",
      "+--------------------+-------------------+------+\n",
      "only showing top 20 rows\n",
      "\n"
     ]
    }
   ],
   "source": [
    "df_csv = df_csv.withColumnRenamed('count', 'cuenta')\n",
    "df_csv.show()"
   ]
  },
  {
   "cell_type": "code",
   "execution_count": 162,
   "metadata": {},
   "outputs": [
    {
     "name": "stdout",
     "output_type": "stream",
     "text": [
      "+--------------------+------+\n",
      "|   DEST_COUNTRY_NAME|cuenta|\n",
      "+--------------------+------+\n",
      "|       United States|    15|\n",
      "|       United States|     1|\n",
      "|       United States|   344|\n",
      "|               Egypt|    15|\n",
      "|       United States|    62|\n",
      "|       United States|     1|\n",
      "|       United States|    62|\n",
      "|          Costa Rica|   588|\n",
      "|             Senegal|    40|\n",
      "|             Moldova|     1|\n",
      "|       United States|   325|\n",
      "|       United States|    39|\n",
      "|              Guyana|    64|\n",
      "|               Malta|     1|\n",
      "|            Anguilla|    41|\n",
      "|             Bolivia|    30|\n",
      "|       United States|     6|\n",
      "|             Algeria|     4|\n",
      "|Turks and Caicos ...|   230|\n",
      "|       United States|     1|\n",
      "+--------------------+------+\n",
      "only showing top 20 rows\n",
      "\n"
     ]
    }
   ],
   "source": [
    "df_csv = df_csv.drop(\"ORIGIN_COUNTRY_NAME\", \"count\")\n",
    "df_csv.show()"
   ]
  },
  {
   "cell_type": "code",
   "execution_count": null,
   "metadata": {},
   "outputs": [],
   "source": []
  }
 ],
 "metadata": {
  "kernelspec": {
   "display_name": "Python 2",
   "language": "python",
   "name": "python2"
  },
  "language_info": {
   "codemirror_mode": {
    "name": "ipython",
    "version": 2
   },
   "file_extension": ".py",
   "mimetype": "text/x-python",
   "name": "python",
   "nbconvert_exporter": "python",
   "pygments_lexer": "ipython2",
   "version": "2.7.12"
  }
 },
 "nbformat": 4,
 "nbformat_minor": 2
}
