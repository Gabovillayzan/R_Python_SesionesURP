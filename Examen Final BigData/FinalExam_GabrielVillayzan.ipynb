{
 "cells": [
  {
   "cell_type": "code",
   "execution_count": 1,
   "metadata": {},
   "outputs": [],
   "source": [
    "from pyspark.sql import SparkSession\n",
    "spark = SparkSession.Builder().appName(\"Prueba1\").getOrCreate()\n",
    "import pyspark.sql.functions as f"
   ]
  },
  {
   "cell_type": "code",
   "execution_count": 2,
   "metadata": {},
   "outputs": [],
   "source": [
    "################################################## PREGUNTA 1 ##################################################\n",
    "df_poutcome = spark.read.csv(\"poutcome.txt\", header=True, sep=':', inferSchema=True)\n",
    "df_job = spark.read.csv(\"job.tsv\", header=True, sep='\\t', inferSchema=True)\n",
    "df_bank = spark.read.csv(\"bank.csv\", header=True, sep=',', inferSchema=True)\n",
    "df_education = spark.read.csv(\"education.txt\", header=True, sep=';', inferSchema=True)\n",
    "df_marital = spark.read.csv(\"marital.txt\", header=True, sep='|', inferSchema=True)\n",
    "df_contact = spark.read.csv(\"contact.txt\", header=True, sep=',', inferSchema=True)"
   ]
  },
  {
   "cell_type": "code",
   "execution_count": 15,
   "metadata": {},
   "outputs": [
    {
     "name": "stdout",
     "output_type": "stream",
     "text": [
      "+---+---+------+----------+------------+-------+-------+-------+----+----------+---+-----+--------+--------+-----+--------+-----------+------+\n",
      "| ID|age|job_id|id_marital|id_education|default|balance|housing|loan|id_contact|day|month|duration|campaign|pdays|previous|id_poutcome|target|\n",
      "+---+---+------+----------+------------+-------+-------+-------+----+----------+---+-----+--------+--------+-----+--------+-----------+------+\n",
      "|  1| 30|     1|         M|           P|     no|   1787|     no|  no|         C| 19|  oct|      79|       1|   -1|       0|          U|    no|\n",
      "|  2| 33|     2|         M|           S|     no|   4789|    yes| yes|         C| 11|  may|     220|       1|  339|       4|          F|    no|\n",
      "+---+---+------+----------+------------+-------+-------+-------+----+----------+---+-----+--------+--------+-----+--------+-----------+------+\n",
      "only showing top 2 rows\n",
      "\n"
     ]
    }
   ],
   "source": [
    "df_bank.show(2)"
   ]
  },
  {
   "cell_type": "code",
   "execution_count": 26,
   "metadata": {},
   "outputs": [
    {
     "name": "stdout",
     "output_type": "stream",
     "text": [
      "+----+---+-------+\n",
      "|  ID|age|balance|\n",
      "+----+---+-------+\n",
      "|3234| 19|   1169|\n",
      "|2781| 19|    302|\n",
      "| 504| 19|    103|\n",
      "|1901| 19|      0|\n",
      "|1726| 20|   1191|\n",
      "|  14| 20|    502|\n",
      "|1000| 20|    291|\n",
      "|4153| 21|   6844|\n",
      "| 111| 21|   2488|\n",
      "|2047| 21|   1903|\n",
      "|2290| 21|    681|\n",
      "|1392| 21|    361|\n",
      "|2704| 21|    137|\n",
      "|3363| 21|      6|\n",
      "| 118| 22|   4111|\n",
      "|1929| 22|   3472|\n",
      "|2472| 22|   2488|\n",
      "| 692| 22|   1161|\n",
      "|2954| 22|    691|\n",
      "|1242| 22|    549|\n",
      "+----+---+-------+\n",
      "only showing top 20 rows\n",
      "\n"
     ]
    }
   ],
   "source": [
    "################################################## PREGUNTA 2 ##################################################\n",
    "## df_bank.select(\"ID\",\"age\",\"balance\").sort(\"age\",\"balance\").show()\n",
    "df_bank.select(\"ID\",\"age\",\"balance\").orderBy([\"age\",\"balance\"],ascending=[1,0]).show()"
   ]
  },
  {
   "cell_type": "code",
   "execution_count": 36,
   "metadata": {},
   "outputs": [
    {
     "name": "stdout",
     "output_type": "stream",
     "text": [
      "+---+----------+------+\n",
      "| ID|id_marital|target|\n",
      "+---+----------+------+\n",
      "|  2|         M|    no|\n",
      "|  4|         M|    no|\n",
      "| 10|         M|    no|\n",
      "| 15|         M|    no|\n",
      "| 16|         M|    no|\n",
      "| 29|         M|    no|\n",
      "| 30|         M|    no|\n",
      "| 49|         S|    no|\n",
      "| 57|         M|    no|\n",
      "| 59|         S|    no|\n",
      "| 60|         D|    no|\n",
      "| 61|         M|    no|\n",
      "| 69|         M|    no|\n",
      "| 78|         S|    no|\n",
      "| 83|         S|    no|\n",
      "| 87|         S|    no|\n",
      "|107|         M|    no|\n",
      "|113|         M|    no|\n",
      "|116|         S|   yes|\n",
      "|118|         S|    no|\n",
      "+---+----------+------+\n",
      "only showing top 20 rows\n",
      "\n"
     ]
    }
   ],
   "source": [
    "################################################## PREGUNTA 3 ##################################################\n",
    "df_bank.filter(df_bank[\"loan\"]=='yes').select(\"ID\",\"id_marital\",\"target\").show()"
   ]
  },
  {
   "cell_type": "code",
   "execution_count": 52,
   "metadata": {},
   "outputs": [
    {
     "name": "stdout",
     "output_type": "stream",
     "text": [
      "+------+--------+--------+\n",
      "|job_id|duration|campaign|\n",
      "+------+--------+--------+\n",
      "|     2|     148|       1|\n",
      "|     7|     125|       2|\n",
      "|     5|     149|       2|\n",
      "|     4|     554|       3|\n",
      "|     6|     130|       4|\n",
      "|     3|     630|       3|\n",
      "|     3|     268|       2|\n",
      "|     8|     652|       1|\n",
      "|     2|     398|       2|\n",
      "|    10|     435|       3|\n",
      "|     5|     317|       5|\n",
      "|     4|     779|       2|\n",
      "|     6|      32|       3|\n",
      "|     3|     455|       2|\n",
      "|     3|     102|       3|\n",
      "|     1|      92|       1|\n",
      "|     8|     166|       1|\n",
      "|     2|     333|       2|\n",
      "|     4|      97|       6|\n",
      "|     5|     543|      12|\n",
      "+------+--------+--------+\n",
      "only showing top 20 rows\n",
      "\n"
     ]
    }
   ],
   "source": [
    "################################################## PREGUNTA 4 ##################################################\n",
    "df_bank.filter(\"balance<=800 and (month=='dec' or month=='jul')\").select(\"job_id\",\"duration\",\"campaign\").show()"
   ]
  },
  {
   "cell_type": "code",
   "execution_count": 103,
   "metadata": {},
   "outputs": [
    {
     "name": "stdout",
     "output_type": "stream",
     "text": [
      "+------------+------+-----+\n",
      "|id_education|target|count|\n",
      "+------------+------+-----+\n",
      "|           P|    no|  614|\n",
      "|           U|   yes|   19|\n",
      "|           P|   yes|   64|\n",
      "|           S|    no| 2061|\n",
      "|           T|    no| 1157|\n",
      "|           S|   yes|  245|\n",
      "|           U|    no|  168|\n",
      "|           T|   yes|  193|\n",
      "+------------+------+-----+\n",
      "\n"
     ]
    }
   ],
   "source": [
    "################################################## PREGUNTA 5 ##################################################\n",
    "df_bank.groupBy(\"id_education\",\"target\").count().show()"
   ]
  },
  {
   "cell_type": "code",
   "execution_count": 101,
   "metadata": {},
   "outputs": [
    {
     "name": "stdout",
     "output_type": "stream",
     "text": [
      "+-----+-------------+\n",
      "|month|sum(duration)|\n",
      "+-----+-------------+\n",
      "|  jun|       134038|\n",
      "|  aug|       154289|\n",
      "|  may|       373708|\n",
      "|  feb|        56765|\n",
      "|  sep|        11218|\n",
      "|  mar|         9746|\n",
      "|  oct|        21824|\n",
      "|  jul|       191471|\n",
      "|  nov|       105834|\n",
      "|  apr|        86246|\n",
      "|  dec|         8338|\n",
      "|  jan|        39892|\n",
      "+-----+-------------+\n",
      "\n"
     ]
    }
   ],
   "source": [
    "################################################## PREGUNTA 6 ##################################################\n",
    "df_bank.groupBy(\"month\").sum(\"duration\").show()"
   ]
  },
  {
   "cell_type": "code",
   "execution_count": 68,
   "metadata": {},
   "outputs": [
    {
     "name": "stdout",
     "output_type": "stream",
     "text": [
      "+-------------+-------+---+\n",
      "|          job|housing|day|\n",
      "+-------------+-------+---+\n",
      "|   unemployed|     no| 19|\n",
      "|     services|    yes| 11|\n",
      "|   management|    yes| 16|\n",
      "|   management|     no| 23|\n",
      "|self-employed|    yes| 14|\n",
      "|   technician|    yes|  6|\n",
      "|     services|    yes| 17|\n",
      "|       admin.|    yes| 17|\n",
      "|   technician|     no| 13|\n",
      "|      student|     no| 30|\n",
      "|  blue-collar|    yes| 29|\n",
      "|   management|     no| 29|\n",
      "|   technician|     no| 27|\n",
      "|       admin.|    yes| 20|\n",
      "|     services|     no|  7|\n",
      "|   management|    yes| 18|\n",
      "|   management|     no| 19|\n",
      "| entrepreneur|     no|  7|\n",
      "|    housemaid|     no| 30|\n",
      "|   management|     no| 20|\n",
      "+-------------+-------+---+\n",
      "only showing top 20 rows\n",
      "\n"
     ]
    }
   ],
   "source": [
    "################################################## PREGUNTA 7 ##################################################\n",
    "#df_job.show(5)\n",
    "df_bank.join(df_job, on=[\"job_id\"]).filter(\"id_contact=='C'\").select(\"job\",\"housing\",\"day\").show()"
   ]
  },
  {
   "cell_type": "code",
   "execution_count": 85,
   "metadata": {},
   "outputs": [
    {
     "name": "stdout",
     "output_type": "stream",
     "text": [
      "+-------+---------+---+\n",
      "|marital|education|age|\n",
      "+-------+---------+---+\n",
      "| single| tertiary| 35|\n",
      "| single| tertiary| 35|\n",
      "| single| tertiary| 37|\n",
      "| single| tertiary| 32|\n",
      "| single| tertiary| 23|\n",
      "| single| tertiary| 38|\n",
      "| single| tertiary| 36|\n",
      "| single| tertiary| 32|\n",
      "| single| tertiary| 34|\n",
      "| single| tertiary| 33|\n",
      "| single| tertiary| 32|\n",
      "| single| tertiary| 31|\n",
      "| single| tertiary| 32|\n",
      "| single| tertiary| 41|\n",
      "| single| tertiary| 30|\n",
      "| single| tertiary| 38|\n",
      "| single| tertiary| 32|\n",
      "| single| tertiary| 51|\n",
      "| single| tertiary| 34|\n",
      "| single| tertiary| 33|\n",
      "+-------+---------+---+\n",
      "only showing top 20 rows\n",
      "\n"
     ]
    }
   ],
   "source": [
    "################################################## PREGUNTA 8 ##################################################\n",
    "#df_marital.show(5)\n",
    "#df_education.show(5)\n",
    "df_bank.join(df_marital, on=[\"id_marital\"])\\\n",
    "    .join(df_education, on=[\"id_education\"])\\\n",
    "    .filter(\"marital=='single' and education=='tertiary'\")\\\n",
    "    .select(\"marital\",\"education\",\"age\").show()"
   ]
  },
  {
   "cell_type": "code",
   "execution_count": 107,
   "metadata": {},
   "outputs": [
    {
     "name": "stdout",
     "output_type": "stream",
     "text": [
      "+---------+-----+\n",
      "|  contact|count|\n",
      "+---------+-----+\n",
      "|  unknown| 1263|\n",
      "| cellular| 2480|\n",
      "|telephone|  257|\n",
      "+---------+-----+\n",
      "\n"
     ]
    }
   ],
   "source": [
    "################################################## PREGUNTA 9 ##################################################\n",
    "df_bank.join(df_contact, on=[\"id_contact\"])\\\n",
    "    .filter(\"target=='no'\").groupBy(\"contact\")\\\n",
    "    .count().show()"
   ]
  },
  {
   "cell_type": "code",
   "execution_count": 104,
   "metadata": {},
   "outputs": [
    {
     "name": "stdout",
     "output_type": "stream",
     "text": [
      "+-------------+---------+------------+\n",
      "|          job|education|sum(balance)|\n",
      "+-------------+---------+------------+\n",
      "|      retired|  primary|      219568|\n",
      "|   management| tertiary|     1397982|\n",
      "| entrepreneur|secondary|       74018|\n",
      "|   technician|secondary|      599876|\n",
      "|      student|secondary|       73404|\n",
      "|      student| tertiary|       22338|\n",
      "|       admin.| tertiary|       53718|\n",
      "|   technician| tertiary|      344274|\n",
      "|  blue-collar| tertiary|       28626|\n",
      "|      unknown|secondary|        9832|\n",
      "|       admin.|secondary|      498984|\n",
      "|   management|secondary|      145012|\n",
      "| entrepreneur| tertiary|      188771|\n",
      "|  blue-collar|secondary|      559942|\n",
      "|    housemaid|  primary|      103005|\n",
      "|self-employed|secondary|       88506|\n",
      "|     services|secondary|      362595|\n",
      "|   technician|  primary|       38895|\n",
      "|    housemaid| tertiary|       52636|\n",
      "|   management|  primary|      104731|\n",
      "+-------------+---------+------------+\n",
      "only showing top 20 rows\n",
      "\n"
     ]
    }
   ],
   "source": [
    "################################################## PREGUNTA 10 ##################################################\n",
    "df_bank.join(df_job, on=[\"job_id\"])\\\n",
    "    .join(df_education, on=[\"id_education\"])\\\n",
    "    .filter(\"age>=21 and education<>'unknown'\").groupBy(\"job\",\"education\")\\\n",
    "    .sum(\"balance\").show()"
   ]
  }
 ],
 "metadata": {
  "kernelspec": {
   "display_name": "Python 2",
   "language": "python",
   "name": "python2"
  },
  "language_info": {
   "codemirror_mode": {
    "name": "ipython",
    "version": 2
   },
   "file_extension": ".py",
   "mimetype": "text/x-python",
   "name": "python",
   "nbconvert_exporter": "python",
   "pygments_lexer": "ipython2",
   "version": "2.7.12"
  }
 },
 "nbformat": 4,
 "nbformat_minor": 2
}
